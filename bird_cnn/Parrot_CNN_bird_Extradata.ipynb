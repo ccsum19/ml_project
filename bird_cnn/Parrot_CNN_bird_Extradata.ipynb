{
 "cells": [
  {
   "cell_type": "code",
   "execution_count": 1,
   "metadata": {},
   "outputs": [],
   "source": [
    "\n",
    "import torch\n",
    "import torchvision\n",
    "from torchvision import datasets, models, transforms\n",
    "import torch.nn as nn\n",
    "import torch.optim as optim\n",
    "from torch.utils.data import DataLoader, random_split\n",
    "import time\n",
    "import os\n",
    "from tqdm import tqdm\n",
    "\n",
    "import matplotlib.pyplot as plt\n",
    "import numpy as np\n"
   ]
  },
  {
   "cell_type": "code",
   "execution_count": 2,
   "metadata": {},
   "outputs": [],
   "source": [
    "# 데이터셋이 위치한 경로\n",
    "# 여러분들이 다운로드 받은 데이터셋의 경로를 찍어주시면 됩니다.\n",
    "data_dir = '/Users/stancho/Documents/서강대학교/동아리/Parrot/팀프로젝트/cnn/CUB_200_2011/images'"
   ]
  },
  {
   "cell_type": "code",
   "execution_count": 3,
   "metadata": {},
   "outputs": [
    {
     "name": "stdout",
     "output_type": "stream",
     "text": [
      "005.Crested_Auklet -> crested_auklet\n",
      "015.Lazuli_Bunting -> lazuli_bunting\n",
      "156.White_eyed_Vireo -> white_eyed_vireo\n",
      "081.Pied_Kingfisher -> pied_kingfisher\n",
      "135.Bank_Swallow -> bank_swallow\n",
      "200.Common_Yellowthroat -> common_yellowthroat\n",
      "086.Pacific_Loon -> pacific_loon\n",
      "067.Anna_Hummingbird -> anna_hummingbird\n",
      "076.Dark_eyed_Junco -> dark_eyed_junco\n",
      "149.Brown_Thrasher -> brown_thrasher\n",
      "127.Savannah_Sparrow -> savannah_sparrow\n",
      "041.Scissor_tailed_Flycatcher -> scissor_tailed_flycatcher\n",
      "141.Artic_Tern -> artic_tern\n",
      "082.Ringed_Kingfisher -> ringed_kingfisher\n",
      "099.Ovenbird -> ovenbird\n",
      "013.Bobolink -> bobolink\n",
      "104.American_Pipit -> american_pipit\n",
      "023.Brandt_Cormorant -> brandt_cormorant\n",
      "168.Kentucky_Warbler -> kentucky_warbler\n",
      "072.Pomarine_Jaeger -> pomarine_jaeger\n",
      "040.Olive_sided_Flycatcher -> olive_sided_flycatcher\n",
      "185.Bohemian_Waxwing -> bohemian_waxwing\n",
      "144.Common_Tern -> common_tern\n",
      "034.Gray_crowned_Rosy_Finch -> gray_crowned_rosy_finch\n",
      "126.Nelson_Sharp_tailed_Sparrow -> nelson_sharp_tailed_sparrow\n",
      "163.Cape_May_Warbler -> cape_may_warbler\n",
      "043.Yellow_bellied_Flycatcher -> yellow_bellied_flycatcher\n",
      "084.Red_legged_Kittiwake -> red_legged_kittiwake\n",
      "089.Hooded_Merganser -> hooded_merganser\n",
      "116.Chipping_Sparrow -> chipping_sparrow\n",
      "029.American_Crow -> american_crow\n",
      "035.Purple_Finch -> purple_finch\n",
      "026.Bronzed_Cowbird -> bronzed_cowbird\n",
      "114.Black_throated_Sparrow -> black_throated_sparrow\n",
      "188.Pileated_Woodpecker -> pileated_woodpecker\n",
      "108.White_necked_Raven -> white_necked_raven\n",
      "158.Bay_breasted_Warbler -> bay_breasted_warbler\n",
      "154.Red_eyed_Vireo -> red_eyed_vireo\n",
      "047.American_Goldfinch -> american_goldfinch\n",
      "162.Canada_Warbler -> canada_warbler\n",
      "102.Western_Wood_Pewee -> western_wood_pewee\n",
      "096.Hooded_Oriole -> hooded_oriole\n",
      "189.Red_bellied_Woodpecker -> red_bellied_woodpecker\n",
      "182.Yellow_Warbler -> yellow_warbler\n",
      "195.Carolina_Wren -> carolina_wren\n",
      "010.Red_winged_Blackbird -> red_winged_blackbird\n",
      "017.Cardinal -> cardinal\n",
      "059.California_Gull -> california_gull\n",
      "161.Blue_winged_Warbler -> blue_winged_warbler\n",
      "004.Groove_billed_Ani -> groove_billed_ani\n",
      "190.Red_cockaded_Woodpecker -> red_cockaded_woodpecker\n",
      "121.Grasshopper_Sparrow -> grasshopper_sparrow\n",
      "080.Green_Kingfisher -> green_kingfisher\n",
      "150.Sage_Thrasher -> sage_thrasher\n",
      "167.Hooded_Warbler -> hooded_warbler\n",
      "119.Field_Sparrow -> field_sparrow\n",
      "110.Geococcyx -> geococcyx\n",
      "122.Harris_Sparrow -> harris_sparrow\n",
      "103.Sayornis -> sayornis\n",
      "077.Tropical_Kingbird -> tropical_kingbird\n",
      "197.Marsh_Wren -> marsh_wren\n",
      "038.Great_Crested_Flycatcher -> great_crested_flycatcher\n",
      "006.Least_Auklet -> least_auklet\n",
      "180.Wilson_Warbler -> wilson_warbler\n",
      "146.Forsters_Tern -> forsters_tern\n",
      "031.Black_billed_Cuckoo -> black_billed_cuckoo\n",
      "045.Northern_Fulmar -> northern_fulmar\n",
      "107.Common_Raven -> common_raven\n",
      "056.Pine_Grosbeak -> pine_grosbeak\n",
      "091.Mockingbird -> mockingbird\n",
      "196.House_Wren -> house_wren\n",
      "079.Belted_Kingfisher -> belted_kingfisher\n",
      "052.Pied_billed_Grebe -> pied_billed_grebe\n",
      "049.Boat_tailed_Grackle -> boat_tailed_grackle\n",
      "065.Slaty_backed_Gull -> slaty_backed_gull\n",
      "140.Summer_Tanager -> summer_tanager\n",
      "130.Tree_Sparrow -> tree_sparrow\n",
      "050.Eared_Grebe -> eared_grebe\n",
      "071.Long_tailed_Jaeger -> long_tailed_jaeger\n",
      "088.Western_Meadowlark -> western_meadowlark\n",
      "021.Eastern_Towhee -> eastern_towhee\n",
      "128.Seaside_Sparrow -> seaside_sparrow\n",
      "063.Ivory_Gull -> ivory_gull\n",
      "171.Myrtle_Warbler -> myrtle_warbler\n",
      "048.European_Goldfinch -> european_goldfinch\n",
      "152.Blue_headed_Vireo -> blue_headed_vireo\n",
      "186.Cedar_Waxwing -> cedar_waxwing\n",
      "094.White_breasted_Nuthatch -> white_breasted_nuthatch\n",
      "166.Golden_winged_Warbler -> golden_winged_warbler\n",
      "118.House_Sparrow -> house_sparrow\n",
      "173.Orange_crowned_Warbler -> orange_crowned_warbler\n",
      "177.Prothonotary_Warbler -> prothonotary_warbler\n",
      "139.Scarlet_Tanager -> scarlet_tanager\n",
      "187.American_Three_toed_Woodpecker -> american_three_toed_woodpecker\n",
      "133.White_throated_Sparrow -> white_throated_sparrow\n",
      "191.Red_headed_Woodpecker -> red_headed_woodpecker\n",
      "101.White_Pelican -> white_pelican\n",
      "083.White_breasted_Kingfisher -> white_breasted_kingfisher\n",
      "009.Brewer_Blackbird -> brewer_blackbird\n",
      "011.Rusty_Blackbird -> rusty_blackbird\n",
      "137.Cliff_Swallow -> cliff_swallow\n",
      "192.Downy_Woodpecker -> downy_woodpecker\n",
      "157.Yellow_throated_Vireo -> yellow_throated_vireo\n",
      "115.Brewer_Sparrow -> brewer_sparrow\n",
      "027.Shiny_Cowbird -> shiny_cowbird\n",
      "100.Brown_Pelican -> brown_pelican\n",
      "134.Cape_Glossy_Starling -> cape_glossy_starling\n",
      "117.Clay_colored_Sparrow -> clay_colored_sparrow\n",
      "025.Pelagic_Cormorant -> pelagic_cormorant\n",
      "053.Western_Grebe -> western_grebe\n",
      "002.Laysan_Albatross -> laysan_albatross\n",
      "143.Caspian_Tern -> caspian_tern\n",
      "153.Philadelphia_Vireo -> philadelphia_vireo\n",
      "014.Indigo_Bunting -> indigo_bunting\n",
      "178.Swainson_Warbler -> swainson_warbler\n",
      "169.Magnolia_Warbler -> magnolia_warbler\n",
      "092.Nighthawk -> nighthawk\n",
      "109.American_Redstart -> american_redstart\n",
      "098.Scott_Oriole -> scott_oriole\n",
      "159.Black_and_white_Warbler -> black_and_white_warbler\n",
      "165.Chestnut_sided_Warbler -> chestnut_sided_warbler\n",
      "148.Green_tailed_Towhee -> green_tailed_towhee\n",
      "058.Pigeon_Guillemot -> pigeon_guillemot\n",
      "155.Warbling_Vireo -> warbling_vireo\n",
      "060.Glaucous_winged_Gull -> glaucous_winged_gull\n",
      "145.Elegant_Tern -> elegant_tern\n",
      "066.Western_Gull -> western_gull\n",
      "111.Loggerhead_Shrike -> loggerhead_shrike\n",
      "075.Green_Jay -> green_jay\n",
      "164.Cerulean_Warbler -> cerulean_warbler\n",
      "093.Clark_Nutcracker -> clark_nutcracker\n",
      "057.Rose_breasted_Grosbeak -> rose_breasted_grosbeak\n",
      "069.Rufous_Hummingbird -> rufous_hummingbird\n",
      "012.Yellow_headed_Blackbird -> yellow_headed_blackbird\n",
      "062.Herring_Gull -> herring_gull\n",
      "183.Northern_Waterthrush -> northern_waterthrush\n",
      "055.Evening_Grosbeak -> evening_grosbeak\n",
      "184.Louisiana_Waterthrush -> louisiana_waterthrush\n",
      "131.Vesper_Sparrow -> vesper_sparrow\n",
      "136.Barn_Swallow -> barn_swallow\n",
      "064.Ring_billed_Gull -> ring_billed_gull\n",
      "174.Palm_Warbler -> palm_warbler\n",
      "123.Henslow_Sparrow -> henslow_sparrow\n",
      "019.Gray_Catbird -> gray_catbird\n",
      "078.Gray_Kingbird -> gray_kingbird\n",
      "016.Painted_Bunting -> painted_bunting\n",
      "106.Horned_Puffin -> horned_puffin\n",
      "120.Fox_Sparrow -> fox_sparrow\n",
      "147.Least_Tern -> least_tern\n",
      "074.Florida_Jay -> florida_jay\n",
      "070.Green_Violetear -> green_violetear\n",
      "022.Chuck_will_Widow -> chuck_will_widow\n",
      "030.Fish_Crow -> fish_crow\n",
      "176.Prairie_Warbler -> prairie_warbler\n",
      "024.Red_faced_Cormorant -> red_faced_cormorant\n",
      "129.Song_Sparrow -> song_sparrow\n",
      "042.Vermilion_Flycatcher -> vermilion_flycatcher\n",
      "090.Red_breasted_Merganser -> red_breasted_merganser\n",
      "033.Yellow_billed_Cuckoo -> yellow_billed_cuckoo\n",
      "001.Black_footed_Albatross -> black_footed_albatross\n",
      "160.Black_throated_Blue_Warbler -> black_throated_blue_warbler\n",
      "105.Whip_poor_Will -> whip_poor_will\n",
      "179.Tennessee_Warbler -> tennessee_warbler\n",
      "036.Northern_Flicker -> northern_flicker\n",
      "008.Rhinoceros_Auklet -> rhinoceros_auklet\n",
      "097.Orchard_Oriole -> orchard_oriole\n",
      "095.Baltimore_Oriole -> baltimore_oriole\n",
      "032.Mangrove_Cuckoo -> mangrove_cuckoo\n",
      "151.Black_capped_Vireo -> black_capped_vireo\n",
      "037.Acadian_Flycatcher -> acadian_flycatcher\n",
      "044.Frigatebird -> frigatebird\n",
      "193.Bewick_Wren -> bewick_wren\n",
      "125.Lincoln_Sparrow -> lincoln_sparrow\n",
      "170.Mourning_Warbler -> mourning_warbler\n",
      "172.Nashville_Warbler -> nashville_warbler\n",
      "073.Blue_Jay -> blue_jay\n",
      "138.Tree_Swallow -> tree_swallow\n",
      "132.White_crowned_Sparrow -> white_crowned_sparrow\n",
      "198.Rock_Wren -> rock_wren\n",
      "124.Le_Conte_Sparrow -> le_conte_sparrow\n",
      "199.Winter_Wren -> winter_wren\n",
      "003.Sooty_Albatross -> sooty_albatross\n",
      "085.Horned_Lark -> horned_lark\n",
      "142.Black_Tern -> black_tern\n",
      "181.Worm_eating_Warbler -> worm_eating_warbler\n",
      "068.Ruby_throated_Hummingbird -> ruby_throated_hummingbird\n",
      "112.Great_Grey_Shrike -> great_grey_shrike\n",
      "028.Brown_Creeper -> brown_creeper\n",
      "018.Spotted_Catbird -> spotted_catbird\n",
      "087.Mallard -> mallard\n",
      "051.Horned_Grebe -> horned_grebe\n",
      "007.Parakeet_Auklet -> parakeet_auklet\n",
      "039.Least_Flycatcher -> least_flycatcher\n",
      "020.Yellow_breasted_Chat -> yellow_breasted_chat\n",
      "113.Baird_Sparrow -> baird_sparrow\n",
      "194.Cactus_Wren -> cactus_wren\n",
      "061.Heermann_Gull -> heermann_gull\n",
      "175.Pine_Warbler -> pine_warbler\n",
      "046.Gadwall -> gadwall\n",
      "054.Blue_Grosbeak -> blue_grosbeak\n"
     ]
    }
   ],
   "source": [
    "#기존 데이터\n",
    "image_folders = os.listdir(data_dir)\n",
    "\n",
    "for folder_name in image_folders:\n",
    "    if os.path.isdir(os.path.join(data_dir, folder_name)):\n",
    "        # 폴더 이름에서 앞의 세 자리 숫자와 마침표를 제거하고 알파벳을 소문자로 변경\n",
    "        new_name = folder_name[4:].lower()\n",
    "        # 폴더의 전체 경로 변경\n",
    "        os.rename(os.path.join(data_dir, folder_name), os.path.join(data_dir, new_name))\n",
    "        print(f\"{folder_name} -> {new_name}\")"
   ]
  },
  {
   "cell_type": "code",
   "execution_count": 4,
   "metadata": {},
   "outputs": [
    {
     "name": "stdout",
     "output_type": "stream",
     "text": [
      "red_billed_tropicbird -> red_billed_tropicbird\n",
      "kookaburra -> kookaburra\n",
      "house_finch -> house_finch\n",
      "cape_may_warbler -> cape_may_warbler\n",
      "striated_caracara -> striated_caracara\n",
      "hoopoes -> hoopoes\n",
      "crane_hawk -> crane_hawk\n",
      "fairy_bluebird -> fairy_bluebird\n",
      "phainopepla -> phainopepla\n",
      "black_necked_stilt -> black_necked_stilt\n",
      "gouldian_finch -> gouldian_finch\n",
      "hoatzin -> hoatzin\n",
      "black_throated_bushtit -> black_throated_bushtit\n",
      "indian_vulture -> indian_vulture\n",
      "northern_red_bishop -> northern_red_bishop\n",
      "hawaiian_goose -> hawaiian_goose\n",
      "takahe -> takahe\n",
      "black_swan -> black_swan\n",
      "shoebill -> shoebill\n",
      "wood_duck -> wood_duck\n",
      "scarlet_faced_liocichla -> scarlet_faced_liocichla\n",
      "brandt_cormarant -> brandt_cormarant\n",
      "red_tailed_thrush -> red_tailed_thrush\n",
      "northern_cardinal -> northern_cardinal\n",
      "altamira_yellowthroat -> altamira_yellowthroat\n",
      "puffin -> puffin\n",
      "wood_thrush -> wood_thrush\n",
      "azaras_spinetail -> azaras_spinetail\n",
      "hooded_merganser -> hooded_merganser\n",
      "palila -> palila\n",
      "spotted_catbird -> spotted_catbird\n",
      "jabiru -> jabiru\n",
      "emerald_tanager -> emerald_tanager\n",
      "american_flamingo -> american_flamingo\n",
      "tawny_frogmouth -> tawny_frogmouth\n",
      "indigo_bunting -> indigo_bunting\n",
      "red_faced_cormorant -> red_faced_cormorant\n",
      "zebra_dove -> zebra_dove\n",
      "cinnamon_teal -> cinnamon_teal\n",
      "american_dipper -> american_dipper\n",
      "dalmatian_pelican -> dalmatian_pelican\n",
      "rock_dove -> rock_dove\n",
      "northern_fulmar -> northern_fulmar\n",
      "vermilion_flycather -> vermilion_flycather\n",
      "rufuos_motmot -> rufuos_motmot\n",
      "jandaya_parakeet -> jandaya_parakeet\n",
      "green_winged_dove -> green_winged_dove\n",
      "barn_swallow -> barn_swallow\n",
      "common_grackle -> common_grackle\n",
      "iberian_magpie -> iberian_magpie\n",
      "gyrfalcon -> gyrfalcon\n",
      "emu -> emu\n",
      "eastern_meadowlark -> eastern_meadowlark\n",
      "belted_kingfisher -> belted_kingfisher\n",
      "ashy_thrushbird -> ashy_thrushbird\n",
      "harlequin_quail -> harlequin_quail\n",
      "taiwan_magpie -> taiwan_magpie\n",
      "baikal_teal -> baikal_teal\n",
      "black_throated_huet -> black_throated_huet\n",
      "white_cheeked_turaco -> white_cheeked_turaco\n",
      "california_quail -> california_quail\n",
      "crimson_chat -> crimson_chat\n",
      "greater_pewee -> greater_pewee\n",
      "bornean_pheasant -> bornean_pheasant\n",
      "chipping_sparrow -> chipping_sparrow\n",
      "green_broadbill -> green_broadbill\n",
      "malagasy_white_eye -> malagasy_white_eye\n",
      "white_crested_hornbill -> white_crested_hornbill\n",
      "clarks_grebe -> clarks_grebe\n",
      "auckland_shaq -> auckland_shaq\n",
      "pink_robin -> pink_robin\n",
      "golden_parakeet -> golden_parakeet\n",
      "rose_breasted_cockatoo -> rose_breasted_cockatoo\n",
      "cedar_waxwing -> cedar_waxwing\n",
      "little_auk -> little_auk\n",
      "common_poorwill -> common_poorwill\n",
      "horned_guan -> horned_guan\n",
      "cassowary -> cassowary\n",
      "hawfinch -> hawfinch\n",
      "burchells_courser -> burchells_courser\n",
      "demoiselle_crane -> demoiselle_crane\n",
      "capuchinbird -> capuchinbird\n",
      "ruddy_shelduck -> ruddy_shelduck\n",
      "gambels_quail -> gambels_quail\n",
      "ovenbird -> ovenbird\n",
      "curl_crested_aracuri -> curl_crested_aracuri\n",
      "eurasian_magpie -> eurasian_magpie\n",
      "says_phoebe -> says_phoebe\n",
      "black_headed_caique -> black_headed_caique\n",
      "andean_goose -> andean_goose\n",
      "blue_malkoha -> blue_malkoha\n",
      "merlin -> merlin\n",
      "philippine_eagle -> philippine_eagle\n",
      "visayan_hornbill -> visayan_hornbill\n",
      "rainbow_lorikeet -> rainbow_lorikeet\n",
      "samatran_thrush -> samatran_thrush\n",
      "inca_tern -> inca_tern\n",
      "tasmanian_hen -> tasmanian_hen\n",
      "kiwi -> kiwi\n",
      "dusky_robin -> dusky_robin\n",
      "oriental_bay_owl -> oriental_bay_owl\n",
      "red_tailed_hawk -> red_tailed_hawk\n",
      "dark_eyed_junco -> dark_eyed_junco\n",
      "rufous_kingfisher -> rufous_kingfisher\n",
      "bay-breasted_warbler -> bay-breasted_warbler\n",
      "steamer_duck -> steamer_duck\n",
      "chucao_tapaculo -> chucao_tapaculo\n",
      "canary -> canary\n",
      "laughing_gull -> laughing_gull\n",
      "horned_sungem -> horned_sungem\n",
      "military_macaw -> military_macaw\n",
      "red_bellied_pitta -> red_bellied_pitta\n",
      "snowy_plover -> snowy_plover\n",
      "harlequin_duck -> harlequin_duck\n",
      "fasciated_wren -> fasciated_wren\n",
      "purple_gallinule -> purple_gallinule\n",
      "golden_cheeked_warbler -> golden_cheeked_warbler\n",
      "american_bittern -> american_bittern\n",
      "azure_tanager -> azure_tanager\n",
      "sora -> sora\n",
      "cuban_tody -> cuban_tody\n",
      "rufous_trepe -> rufous_trepe\n",
      "asian_openbill_stork -> asian_openbill_stork\n",
      "red_bearded_bee_eater -> red_bearded_bee_eater\n",
      "guinea_turaco -> guinea_turaco\n",
      "black_tail_crake -> black_tail_crake\n",
      "bearded_bellbird -> bearded_bellbird\n",
      "black_throated_warbler -> black_throated_warbler\n",
      "baltimore_oriole -> baltimore_oriole\n",
      "noisy_friarbird -> noisy_friarbird\n",
      "black_faced_spoonbill -> black_faced_spoonbill\n",
      "brown_thrasher -> brown_thrasher\n",
      "mikado__pheasant -> mikado__pheasant\n",
      "knob_billed_duck -> knob_billed_duck\n",
      "frill_back_pigeon -> frill_back_pigeon\n",
      "cabots_tragopan -> cabots_tragopan\n",
      "varied_thrush -> varied_thrush\n",
      "american_robin -> american_robin\n",
      "european_turtle_dove -> european_turtle_dove\n",
      "stripped_swallow -> stripped_swallow\n",
      "snowy_sheathbill -> snowy_sheathbill\n",
      "gang_gang_cockatoo -> gang_gang_cockatoo\n",
      "elliots__pheasant -> elliots__pheasant\n",
      "grey_plover -> grey_plover\n",
      "mangrove_cuckoo -> mangrove_cuckoo\n",
      "harpy_eagle -> harpy_eagle\n",
      "crimson_sunbird -> crimson_sunbird\n",
      "loggerhead_shrike -> loggerhead_shrike\n",
      "crested_caracara -> crested_caracara\n",
      "mallard_duck -> mallard_duck\n",
      "indian_roller -> indian_roller\n",
      "black-capped_chickadee -> black-capped_chickadee\n",
      "scarlet_tanager -> scarlet_tanager\n",
      "victoria_crowned_pigeon -> victoria_crowned_pigeon\n",
      "american_kestrel -> american_kestrel\n",
      "barred_puffbird -> barred_puffbird\n",
      "orange_brested_bunting -> orange_brested_bunting\n",
      "squacco_heron -> squacco_heron\n",
      "enggano_myna -> enggano_myna\n",
      "java_sparrow -> java_sparrow\n",
      "american_redstart -> american_redstart\n",
      "common_iora -> common_iora\n",
      "cape_glossy_starling -> cape_glossy_starling\n",
      "australasian_figbird -> australasian_figbird\n",
      "apapane -> apapane\n",
      "european_goldfinch -> european_goldfinch\n",
      "d-arnauds_barbet -> d-arnauds_barbet\n",
      "chinese_pond_heron -> chinese_pond_heron\n",
      "jocotoco_antpitta -> jocotoco_antpitta\n",
      "white_eared_hummingbird -> white_eared_hummingbird\n",
      "alberts_towhee -> alberts_towhee\n",
      "coppery_tailed_coucal -> coppery_tailed_coucal\n",
      "azure_tit -> azure_tit\n",
      "magpie_goose -> magpie_goose\n",
      "malachite_kingfisher -> malachite_kingfisher\n",
      "iwi -> iwi\n",
      "grey_headed_chachalaca -> grey_headed_chachalaca\n",
      "mandrin_duck -> mandrin_duck\n",
      "orange_breasted_trogon -> orange_breasted_trogon\n",
      "surf_scoter -> surf_scoter\n",
      "venezuelian_troupial -> venezuelian_troupial\n",
      "hyacinth_macaw -> hyacinth_macaw\n",
      "blue_heron -> blue_heron\n",
      "vulturine_guineafowl -> vulturine_guineafowl\n",
      "white_breasted_waterhen -> white_breasted_waterhen\n",
      "wrentit -> wrentit\n",
      "grey_headed_fish_eagle -> grey_headed_fish_eagle\n",
      "black_vented_shearwater -> black_vented_shearwater\n",
      "american_wigeon -> american_wigeon\n",
      "lark_bunting -> lark_bunting\n",
      "white_tailed_tropic -> white_tailed_tropic\n",
      "spoon_biled_sandpiper -> spoon_biled_sandpiper\n",
      "bush_turkey -> bush_turkey\n",
      "fiery_minivet -> fiery_minivet\n",
      "black-throated_sparrow -> black-throated_sparrow\n",
      "bald_eagle -> bald_eagle\n",
      "roseate_spoonbill -> roseate_spoonbill\n",
      "painted_bunting -> painted_bunting\n",
      "crow -> crow\n",
      "masked_bobwhite -> masked_bobwhite\n",
      "parus_major -> parus_major\n",
      "crested_oropendola -> crested_oropendola\n",
      "himalayan_monal -> himalayan_monal\n",
      "purple_martin -> purple_martin\n",
      "plush_crested_jay -> plush_crested_jay\n",
      "turkey_vulture -> turkey_vulture\n",
      "blue_grosbeak -> blue_grosbeak\n",
      "mourning_dove -> mourning_dove\n",
      "common_firecrest -> common_firecrest\n",
      "lucifer_hummingbird -> lucifer_hummingbird\n",
      "kagu -> kagu\n",
      "gray_catbird -> gray_catbird\n",
      "purple_swamphen -> purple_swamphen\n",
      "collared_crescentchest -> collared_crescentchest\n",
      "downy_woodpecker -> downy_woodpecker\n",
      "violet_cuckoo -> violet_cuckoo\n",
      "northern_parula -> northern_parula\n",
      "anianiau -> anianiau\n",
      "fire_tailled_myzornis -> fire_tailled_myzornis\n",
      "brewers_blackbird -> brewers_blackbird\n",
      "veery -> veery\n",
      "eastern_bluebonnet -> eastern_bluebonnet\n",
      "pygmy_kingfisher -> pygmy_kingfisher\n",
      "white_necked_raven -> white_necked_raven\n",
      "black_cockato -> black_cockato\n",
      "cinnamon_flycatcher -> cinnamon_flycatcher\n",
      "cockatoo -> cockatoo\n",
      "cerulean_warbler -> cerulean_warbler\n",
      "chestnut_winged_cuckoo -> chestnut_winged_cuckoo\n",
      "teal_duck -> teal_duck\n",
      "ornate_hawk_eagle -> ornate_hawk_eagle\n",
      "banded_stilt -> banded_stilt\n",
      "brown_crepper -> brown_crepper\n",
      "bulwers_pheasant -> bulwers_pheasant\n",
      "collared_aracari -> collared_aracari\n",
      "cape_rock_thrush -> cape_rock_thrush\n",
      "white_browed_crake -> white_browed_crake\n",
      "double_barred_finch -> double_barred_finch\n",
      "crested_nuthatch -> crested_nuthatch\n",
      "rudy_kingfisher -> rudy_kingfisher\n",
      "peregrine_falcon -> peregrine_falcon\n",
      "eastern_towee -> eastern_towee\n",
      "verdin -> verdin\n",
      "barrows_goldeneye -> barrows_goldeneye\n",
      "bali_starling -> bali_starling\n",
      "northern_jacana -> northern_jacana\n",
      "asian_dollard_bird -> asian_dollard_bird\n",
      "crested_wood_partridge -> crested_wood_partridge\n",
      "yellow_headed_blackbird -> yellow_headed_blackbird\n",
      "spotted_whistling_duck -> spotted_whistling_duck\n",
      "asian_crested_ibis -> asian_crested_ibis\n",
      "african_pied_hornbill -> african_pied_hornbill\n",
      "andean_lapwing -> andean_lapwing\n",
      "stork_billed_kingfisher -> stork_billed_kingfisher\n",
      "carmine_bee-eater -> carmine_bee-eater\n",
      "black-necked_grebe -> black-necked_grebe\n",
      "northern_flicker -> northern_flicker\n",
      "eastern_bluebird -> eastern_bluebird\n",
      "rough_leg_buzzard -> rough_leg_buzzard\n",
      "sandhill_crane -> sandhill_crane\n",
      "abyssinian_ground_hornbill -> abyssinian_ground_hornbill\n",
      "yellow_bellied_flowerpecker -> yellow_bellied_flowerpecker\n",
      "american_avocet -> american_avocet\n",
      "lesser_adjutant -> lesser_adjutant\n",
      "purple_finch -> purple_finch\n",
      "splendid_wren -> splendid_wren\n",
      "house_sparrow -> house_sparrow\n",
      "myna -> myna\n",
      "jacobin_pigeon -> jacobin_pigeon\n",
      "whimbrel -> whimbrel\n",
      "wall_creaper -> wall_creaper\n",
      "sand_martin -> sand_martin\n",
      "brown_noody -> brown_noody\n",
      "red_knot -> red_knot\n",
      "marabou_stork -> marabou_stork\n",
      "red_fody -> red_fody\n",
      "puna_teal -> puna_teal\n",
      "eurasian_bullfinch -> eurasian_bullfinch\n",
      "razorbill -> razorbill\n",
      "red_headed_duck -> red_headed_duck\n",
      "fairy_penguin -> fairy_penguin\n",
      "common_house_martin -> common_house_martin\n",
      "osprey -> osprey\n",
      "willow_ptarmigan -> willow_ptarmigan\n",
      "azure_jay -> azure_jay\n",
      "himalayan_bluetail -> himalayan_bluetail\n",
      "yellow_breasted_chat -> yellow_breasted_chat\n",
      "forest_wagtail -> forest_wagtail\n",
      "red_naped_trogon -> red_naped_trogon\n",
      "peacock -> peacock\n",
      "california_gull -> california_gull\n",
      "band_tailed_guan -> band_tailed_guan\n",
      "great_gray_owl -> great_gray_owl\n",
      "gurneys_pitta -> gurneys_pitta\n",
      "patagonian_sierra_finch -> patagonian_sierra_finch\n",
      "crested_coua -> crested_coua\n",
      "crab_plover -> crab_plover\n",
      "blue_gray_gnatcatcher -> blue_gray_gnatcatcher\n",
      "canvasback -> canvasback\n",
      "double_eyed_fig_parrot -> double_eyed_fig_parrot\n",
      "flame_tanager -> flame_tanager\n",
      "barn_owl -> barn_owl\n",
      "golden_chlorophonia -> golden_chlorophonia\n",
      "grandala -> grandala\n",
      "great_potoo -> great_potoo\n",
      "greator_sage_grouse -> greator_sage_grouse\n",
      "blue_grouse -> blue_grouse\n",
      "american_coot -> american_coot\n",
      "trumpter_swan -> trumpter_swan\n",
      "avadavat -> avadavat\n",
      "anhinga -> anhinga\n",
      "go_away_bird -> go_away_bird\n",
      "palm_nut_vulture -> palm_nut_vulture\n",
      "cape_longclaw -> cape_longclaw\n",
      "azure_breasted_pitta -> azure_breasted_pitta\n",
      "golden_pheasant -> golden_pheasant\n",
      "imperial_shaq -> imperial_shaq\n",
      "african_pygmy_goose -> african_pygmy_goose\n",
      "cock_of_the__rock -> cock_of_the__rock\n",
      "austral_canastero -> austral_canastero\n",
      "wild_turkey -> wild_turkey\n",
      "groved_billed_ani -> groved_billed_ani\n",
      "frigate -> frigate\n",
      "blue_throated_toucanet -> blue_throated_toucanet\n",
      "snowy_egret -> snowy_egret\n",
      "violet_turaco -> violet_turaco\n",
      "daurian_redstart -> daurian_redstart\n",
      "golden_pipit -> golden_pipit\n",
      "black_baza -> black_baza\n",
      "nicobar_pigeon -> nicobar_pigeon\n",
      "cinnamon_attila -> cinnamon_attila\n",
      "clarks_nutcracker -> clarks_nutcracker\n",
      "northern_shoveler -> northern_shoveler\n",
      "grey_cuckooshrike -> grey_cuckooshrike\n",
      "lazuli_bunting -> lazuli_bunting\n",
      "ring-necked_pheasant -> ring-necked_pheasant\n",
      "bearded_barbet -> bearded_barbet\n",
      "african_firefinch -> african_firefinch\n",
      "red_crossbill -> red_crossbill\n",
      "paradise_tanager -> paradise_tanager\n",
      "glossy_ibis -> glossy_ibis\n",
      "red_faced_warbler -> red_faced_warbler\n",
      "ivory_billed_aracari -> ivory_billed_aracari\n",
      "eastern_rosella -> eastern_rosella\n",
      "bird_of_paradise -> bird_of_paradise\n",
      "tropical_kingbird -> tropical_kingbird\n",
      "indian_pitta -> indian_pitta\n",
      "bornean_leafbird -> bornean_leafbird\n",
      "superb_starling -> superb_starling\n",
      "abbotts_booby -> abbotts_booby\n",
      "antbird -> antbird\n",
      "snowy_owl -> snowy_owl\n",
      "eared_pita -> eared_pita\n",
      "chattering_lory -> chattering_lory\n",
      "cream_colored_woodpecker -> cream_colored_woodpecker\n",
      "cuban_trogon -> cuban_trogon\n",
      "ocellated_turkey -> ocellated_turkey\n",
      "dunlin -> dunlin\n",
      "red_wiskered_bulbul -> red_wiskered_bulbul\n",
      "great_argus -> great_argus\n",
      "pyrrhuloxia -> pyrrhuloxia\n",
      "umbrella_bird -> umbrella_bird\n",
      "american_pipit -> american_pipit\n",
      "ecuadorian_hillstar -> ecuadorian_hillstar\n",
      "northern_mockingbird -> northern_mockingbird\n",
      "green_magpie -> green_magpie\n",
      "black_and_yellow_broadbill -> black_and_yellow_broadbill\n",
      "andean_siskin -> andean_siskin\n",
      "brown_headed_cowbird -> brown_headed_cowbird\n",
      "horned_lark -> horned_lark\n",
      "alexandrine_parakeet -> alexandrine_parakeet\n",
      "asian_green_bee_eater -> asian_green_bee_eater\n",
      "lilac_roller -> lilac_roller\n",
      "ibisbill -> ibisbill\n",
      "masked_booby -> masked_booby\n",
      "ruby_crowned_kinglet -> ruby_crowned_kinglet\n",
      "masked_lapwing -> masked_lapwing\n",
      "looney_birds -> looney_birds\n",
      "crested_shriketit -> crested_shriketit\n",
      "coppersmith_barbet -> coppersmith_barbet\n",
      "california_condor -> california_condor\n",
      "african_crowned_crane -> african_crowned_crane\n",
      "pomarine_jaeger -> pomarine_jaeger\n",
      "crested_serpent_eagle -> crested_serpent_eagle\n",
      "woodland_kingfisher -> woodland_kingfisher\n",
      "double_brested_cormarant -> double_brested_cormarant\n",
      "red_browed_finch -> red_browed_finch\n",
      "quetzal -> quetzal\n",
      "great_tinamou -> great_tinamou\n",
      "oyster_catcher -> oyster_catcher\n",
      "bearded_reedling -> bearded_reedling\n",
      "gilded_flicker -> gilded_flicker\n",
      "violet_green_swallow -> violet_green_swallow\n",
      "scarlet_macaw -> scarlet_macaw\n",
      "crested_kingfisher -> crested_kingfisher\n",
      "bald_ibis -> bald_ibis\n",
      "chara_de_collar -> chara_de_collar\n",
      "sunbittern -> sunbittern\n",
      "evening_grosbeak -> evening_grosbeak\n",
      "helmet_vanga -> helmet_vanga\n",
      "spangled_cotinga -> spangled_cotinga\n",
      "eurasian_golden_oriole -> eurasian_golden_oriole\n",
      "indigo_flycatcher -> indigo_flycatcher\n",
      "bornean_bristlehead -> bornean_bristlehead\n",
      "wattled_curassow -> wattled_curassow\n",
      "eastern_wip_poor_will -> eastern_wip_poor_will\n",
      "malabar_hornbill -> malabar_hornbill\n",
      "american_goldfinch -> american_goldfinch\n",
      "northern_gannet -> northern_gannet\n",
      "mckays_bunting -> mckays_bunting\n",
      "japanese_robin -> japanese_robin\n",
      "common_starling -> common_starling\n",
      "crested_auklet -> crested_auklet\n",
      "ruby_throated_hummingbird -> ruby_throated_hummingbird\n",
      "tricolored_blackbird -> tricolored_blackbird\n",
      "fairy_tern -> fairy_tern\n",
      "oilbird -> oilbird\n",
      "banded_broadbill -> banded_broadbill\n",
      "golden_bower_bird -> golden_bower_bird\n",
      "african_emerald_cuckoo -> african_emerald_cuckoo\n",
      "white_throated_bee_eater -> white_throated_bee_eater\n",
      "satyr_tragopan -> satyr_tragopan\n",
      "bar-tailed_godwit -> bar-tailed_godwit\n",
      "touchan -> touchan\n",
      "killdear -> killdear\n",
      "chukar_partridge -> chukar_partridge\n",
      "banded_pita -> banded_pita\n",
      "scarlet_ibis -> scarlet_ibis\n",
      "red_shouldered_hawk -> red_shouldered_hawk\n",
      "bufflehead -> bufflehead\n",
      "amethyst_woodstar -> amethyst_woodstar\n",
      "smiths_longspur -> smiths_longspur\n",
      "common_loon -> common_loon\n",
      "black_breasted_puffbird -> black_breasted_puffbird\n",
      "elegant_trogon -> elegant_trogon\n",
      "black_skimmer -> black_skimmer\n",
      "townsends_warbler -> townsends_warbler\n",
      "bobolink -> bobolink\n",
      "eastern_yellow_robin -> eastern_yellow_robin\n",
      "indian_bustard -> indian_bustard\n",
      "alpine_chough -> alpine_chough\n",
      "greater_prairie_chicken -> greater_prairie_chicken\n",
      "crested_fireback -> crested_fireback\n",
      "yellow_cacique -> yellow_cacique\n",
      "cactus_wren -> cactus_wren\n",
      "araripe_manakin -> araripe_manakin\n",
      "stripped_manakin -> stripped_manakin\n",
      "blue_throated_piping_guan -> blue_throated_piping_guan\n",
      "jack_snipe -> jack_snipe\n",
      "apostlebird -> apostlebird\n",
      "ivory_gull -> ivory_gull\n",
      "long-eared_owl -> long-eared_owl\n",
      "black_francolin -> black_francolin\n",
      "great_kiskadee -> great_kiskadee\n",
      "golden_eagle -> golden_eagle\n",
      "regent_bowerbird -> regent_bowerbird\n",
      "albatross -> albatross\n",
      "violet_backed_starling -> violet_backed_starling\n",
      "great_jacamar -> great_jacamar\n",
      "wattled_lapwing -> wattled_lapwing\n",
      "royal_flycatcher -> royal_flycatcher\n",
      "abbotts_babbler -> abbotts_babbler\n",
      "chinese_bamboo_partridge -> chinese_bamboo_partridge\n",
      "black_vulture -> black_vulture\n",
      "ashy_storm_petrel -> ashy_storm_petrel\n",
      "swinhoes_pheasant -> swinhoes_pheasant\n",
      "green_jay -> green_jay\n",
      "ostrich -> ostrich\n",
      "sri_lanka_blue_magpie -> sri_lanka_blue_magpie\n",
      "egyptian_goose -> egyptian_goose\n",
      "snow_goose -> snow_goose\n",
      "emperor_penguin -> emperor_penguin\n",
      "antillean_euphonia -> antillean_euphonia\n",
      "inland_dotterel -> inland_dotterel\n",
      "gila_woodpecker -> gila_woodpecker\n",
      "fan_tailed_widow -> fan_tailed_widow\n",
      "northern_beardless_tyrannulet -> northern_beardless_tyrannulet\n",
      "gray_partridge -> gray_partridge\n",
      "striped_owl -> striped_owl\n",
      "okinawa_rail -> okinawa_rail\n",
      "darjeeling_woodpecker -> darjeeling_woodpecker\n",
      "capped_heron -> capped_heron\n",
      "blonde_crested_woodpecker -> blonde_crested_woodpecker\n",
      "african_oyster_catcher -> african_oyster_catcher\n",
      "limpkin -> limpkin\n",
      "blue_coau -> blue_coau\n",
      "chestnet_bellied_euphonia -> chestnet_bellied_euphonia\n",
      "great_xenops -> great_xenops\n",
      "rosy_faced_lovebird -> rosy_faced_lovebird\n",
      "annas_hummingbird -> annas_hummingbird\n",
      "rose_breasted_grosbeak -> rose_breasted_grosbeak\n",
      "blue_dacnis -> blue_dacnis\n",
      "turquoise_motmot -> turquoise_motmot\n",
      "parakett__auklet -> parakett__auklet\n",
      "king_vulture -> king_vulture\n",
      "king_eider -> king_eider\n",
      "wilsons_bird_of_paradise -> wilsons_bird_of_paradise\n",
      "snow_partridge -> snow_partridge\n",
      "bananaquit -> bananaquit\n",
      "blood_pheasant -> blood_pheasant\n",
      "scarlet_crowned_fruit_dove -> scarlet_crowned_fruit_dove\n",
      "hepatic_tanager -> hepatic_tanager\n",
      "blackburniam_warbler -> blackburniam_warbler\n",
      "guineafowl -> guineafowl\n",
      "caatinga_cacholote -> caatinga_cacholote\n",
      "eastern_golden_weaver -> eastern_golden_weaver\n",
      "fiordland_penguin -> fiordland_penguin\n",
      "flame_bowerbird -> flame_bowerbird\n",
      "red_legged_honeycreeper -> red_legged_honeycreeper\n",
      "maleo -> maleo\n",
      "tit_mouse -> tit_mouse\n",
      "short_billed_dowitcher -> short_billed_dowitcher\n",
      "roadrunner -> roadrunner\n",
      "tree_swallow -> tree_swallow\n",
      "tailorbird -> tailorbird\n",
      "hamerkop -> hamerkop\n",
      "campo_flicker -> campo_flicker\n",
      "northern_goshawk -> northern_goshawk\n",
      "caspian_tern -> caspian_tern\n",
      "kakapo -> kakapo\n",
      "red_headed_woodpecker -> red_headed_woodpecker\n",
      "gold_wing_warbler -> gold_wing_warbler\n",
      "red_winged_blackbird -> red_winged_blackbird\n",
      "gray_kingbird -> gray_kingbird\n",
      "dusky_lory -> dusky_lory\n"
     ]
    }
   ],
   "source": [
    "#외부데이터\n",
    "extra_dir = '/Users/stancho/Documents/서강대학교/동아리/Parrot/팀프로젝트/cnn/train'\n",
    "\n",
    "image_extra_folders = os.listdir(extra_dir)\n",
    "\n",
    "for extra_folder_name in image_extra_folders:\n",
    "    if os.path.isdir(os.path.join(extra_dir, extra_folder_name)):\n",
    "        # 폴더 이름에서 앞의 세 자리 숫자와 마침표를 제거하고 알파벳을 소문자로 변경\n",
    "        new_extra_name = extra_folder_name.replace(' ', '_').lower()\n",
    "        # 폴더의 전체 경로 변경\n",
    "        os.rename(os.path.join(extra_dir, extra_folder_name), os.path.join(extra_dir, new_extra_name))\n",
    "        print(f\"{extra_folder_name} -> {new_extra_name}\")\n"
   ]
  },
  {
   "cell_type": "code",
   "execution_count": 13,
   "metadata": {},
   "outputs": [
    {
     "name": "stdout",
     "output_type": "stream",
     "text": [
      "외부데이터 'cape_may_warbler'의 이미지를 images로 옮겼습니다.\n",
      "외부데이터 'hooded_merganser'의 이미지를 images로 옮겼습니다.\n",
      "외부데이터 'spotted_catbird'의 이미지를 images로 옮겼습니다.\n",
      "외부데이터 'indigo_bunting'의 이미지를 images로 옮겼습니다.\n",
      "외부데이터 'red_faced_cormorant'의 이미지를 images로 옮겼습니다.\n",
      "외부데이터 'northern_fulmar'의 이미지를 images로 옮겼습니다.\n",
      "외부데이터 'barn_swallow'의 이미지를 images로 옮겼습니다.\n",
      "외부데이터 'belted_kingfisher'의 이미지를 images로 옮겼습니다.\n",
      "외부데이터 'chipping_sparrow'의 이미지를 images로 옮겼습니다.\n",
      "외부데이터 'cedar_waxwing'의 이미지를 images로 옮겼습니다.\n",
      "외부데이터 'ovenbird'의 이미지를 images로 옮겼습니다.\n",
      "외부데이터 'dark_eyed_junco'의 이미지를 images로 옮겼습니다.\n",
      "외부데이터 'baltimore_oriole'의 이미지를 images로 옮겼습니다.\n",
      "외부데이터 'brown_thrasher'의 이미지를 images로 옮겼습니다.\n",
      "외부데이터 'mangrove_cuckoo'의 이미지를 images로 옮겼습니다.\n",
      "외부데이터 'loggerhead_shrike'의 이미지를 images로 옮겼습니다.\n",
      "외부데이터 'scarlet_tanager'의 이미지를 images로 옮겼습니다.\n",
      "외부데이터 'american_redstart'의 이미지를 images로 옮겼습니다.\n",
      "외부데이터 'cape_glossy_starling'의 이미지를 images로 옮겼습니다.\n",
      "외부데이터 'european_goldfinch'의 이미지를 images로 옮겼습니다.\n",
      "외부데이터 'painted_bunting'의 이미지를 images로 옮겼습니다.\n",
      "외부데이터 'blue_grosbeak'의 이미지를 images로 옮겼습니다.\n",
      "외부데이터 'gray_catbird'의 이미지를 images로 옮겼습니다.\n",
      "외부데이터 'downy_woodpecker'의 이미지를 images로 옮겼습니다.\n",
      "외부데이터 'white_necked_raven'의 이미지를 images로 옮겼습니다.\n",
      "외부데이터 'cerulean_warbler'의 이미지를 images로 옮겼습니다.\n",
      "외부데이터 'yellow_headed_blackbird'의 이미지를 images로 옮겼습니다.\n",
      "외부데이터 'northern_flicker'의 이미지를 images로 옮겼습니다.\n",
      "외부데이터 'purple_finch'의 이미지를 images로 옮겼습니다.\n",
      "외부데이터 'house_sparrow'의 이미지를 images로 옮겼습니다.\n",
      "외부데이터 'yellow_breasted_chat'의 이미지를 images로 옮겼습니다.\n",
      "외부데이터 'california_gull'의 이미지를 images로 옮겼습니다.\n",
      "외부데이터 'lazuli_bunting'의 이미지를 images로 옮겼습니다.\n",
      "외부데이터 'tropical_kingbird'의 이미지를 images로 옮겼습니다.\n",
      "외부데이터 'american_pipit'의 이미지를 images로 옮겼습니다.\n",
      "외부데이터 'horned_lark'의 이미지를 images로 옮겼습니다.\n",
      "외부데이터 'pomarine_jaeger'의 이미지를 images로 옮겼습니다.\n",
      "외부데이터 'evening_grosbeak'의 이미지를 images로 옮겼습니다.\n",
      "외부데이터 'american_goldfinch'의 이미지를 images로 옮겼습니다.\n",
      "외부데이터 'crested_auklet'의 이미지를 images로 옮겼습니다.\n",
      "외부데이터 'ruby_throated_hummingbird'의 이미지를 images로 옮겼습니다.\n",
      "외부데이터 'bobolink'의 이미지를 images로 옮겼습니다.\n",
      "외부데이터 'cactus_wren'의 이미지를 images로 옮겼습니다.\n",
      "외부데이터 'ivory_gull'의 이미지를 images로 옮겼습니다.\n",
      "외부데이터 'green_jay'의 이미지를 images로 옮겼습니다.\n",
      "외부데이터 'rose_breasted_grosbeak'의 이미지를 images로 옮겼습니다.\n",
      "외부데이터 'tree_swallow'의 이미지를 images로 옮겼습니다.\n",
      "외부데이터 'caspian_tern'의 이미지를 images로 옮겼습니다.\n",
      "외부데이터 'red_headed_woodpecker'의 이미지를 images로 옮겼습니다.\n",
      "외부데이터 'red_winged_blackbird'의 이미지를 images로 옮겼습니다.\n",
      "외부데이터 'gray_kingbird'의 이미지를 images로 옮겼습니다.\n"
     ]
    }
   ],
   "source": [
    "import shutil\n",
    "\n",
    "# 디렉토리 경로 설정\n",
    "extra_dir = '/Users/stancho/Documents/서강대학교/동아리/Parrot/팀프로젝트/cnn/train'\n",
    "data_dir = '/Users/stancho/Documents/서강대학교/동아리/Parrot/팀프로젝트/cnn/CUB_200_2011'\n",
    "\n",
    "# extra_dir의 각 폴더를 반복하여 처리\n",
    "for folder in os.listdir(extra_dir):\n",
    "    # 폴더 이름과 일치하는 파일 또는 폴더가 data_dir/images 안에 있는지 확인\n",
    "    src_folder = os.path.join(data_dir, 'images', folder)\n",
    "    if os.path.exists(src_folder):\n",
    "        # 이미지 파일들을 대상 폴더로 옮기기\n",
    "        src_images = os.path.join(extra_dir, folder)\n",
    "        for file in os.listdir(src_images):\n",
    "            src_file = os.path.join(src_images, file)\n",
    "            dst_file = os.path.join(src_folder, file)\n",
    "            shutil.move(src_file, dst_file)\n",
    "\n",
    "        print(f\"외부데이터 '{folder}'의 이미지를 images로 옮겼습니다.\")\n"
   ]
  },
  {
   "cell_type": "code",
   "execution_count": 14,
   "metadata": {},
   "outputs": [],
   "source": [
    "import torch\n",
    "import torchvision\n",
    "from torchvision import datasets, models, transforms\n",
    "import torch.nn as nn\n",
    "import torch.optim as optim\n",
    "from torch.utils.data import DataLoader, random_split\n",
    "import time\n",
    "import os\n",
    "from tqdm import tqdm"
   ]
  },
  {
   "cell_type": "code",
   "execution_count": 15,
   "metadata": {
    "id": "v9VM-lDTat4r"
   },
   "outputs": [],
   "source": [
    "def get_data_transforms():\n",
    "    data_transforms = {\n",
    "        'train': transforms.Compose([\n",
    "            transforms.RandomHorizontalFlip(p=0.5),\n",
    "            transforms.RandomVerticalFlip(p=0.5),\n",
    "            transforms.RandomApply(torch.nn.ModuleList([transforms.ColorJitter()]), p=0.1),\n",
    "            transforms.Resize(256),\n",
    "            transforms.CenterCrop(224),\n",
    "            transforms.ToTensor(),\n",
    "            transforms.Normalize((0.485, 0.456, 0.406), (0.229, 0.224, 0.225)),\n",
    "            transforms.RandomErasing(p=0.25, value='random'),\n",
    "            #transforms.GaussianBlur(kernel_size=23),  # Add a comma here\n",
    "        ]),\n",
    "        'val': transforms.Compose([\n",
    "            transforms.Resize(256),\n",
    "            transforms.CenterCrop(224),\n",
    "            transforms.ToTensor(),\n",
    "            transforms.Normalize([0.485, 0.456, 0.406], [0.229, 0.224, 0.225])\n",
    "        ]),\n",
    "    }\n",
    "    return data_transforms\n",
    "\n",
    "if __name__ == \"__main__\":\n",
    "    data_transforms = get_data_transforms()\n"
   ]
  },
  {
   "cell_type": "code",
   "execution_count": 16,
   "metadata": {
    "id": "6R4r-3YNwaW2"
   },
   "outputs": [],
   "source": [
    "# 여기는 건들지 말아주세요!\n",
    "\n",
    "# 이미지 데이터셋 불러오기\n",
    "full_dataset = datasets.ImageFolder(os.path.join(data_dir, 'images'),\n",
    "                                          data_transforms['train'])\n",
    "\n",
    "# 클래스명\n",
    "class_names = full_dataset.classes"
   ]
  },
  {
   "cell_type": "code",
   "execution_count": 17,
   "metadata": {
    "id": "102IYvRccYMD"
   },
   "outputs": [],
   "source": [
    "# 데이터셋을 train과 valid로 나누기\n",
    "train_size = int(0.7 * len(full_dataset))\n",
    "valid_size = len(full_dataset) - train_size\n",
    "train_dataset, valid_dataset = random_split(full_dataset, [train_size, valid_size])\n",
    "\n",
    "# 데이터 로더\n",
    "# 만약 CUDA out of Memory가 뜬다면\n",
    "# 1. batch_size를 줄이거나,\n",
    "# 2. 모델을 가벼운 걸로 바꾸거나\n",
    "# 3. data_transforms 에서 Resize 부분을 작게해서 이미지 사이즈를 줄여주세요.\n",
    "train_loader = DataLoader(train_dataset, batch_size=64, shuffle=True, num_workers=2)\n",
    "valid_loader = DataLoader(valid_dataset, batch_size=64, shuffle=False, num_workers=2)"
   ]
  },
  {
   "cell_type": "code",
   "execution_count": 18,
   "metadata": {
    "colab": {
     "base_uri": "https://localhost:8080/"
    },
    "id": "UyK5bnnOa-PM",
    "outputId": "af42e968-ba12-4270-9015-24e45974344b"
   },
   "outputs": [
    {
     "data": {
      "text/plain": [
       "device(type='mps')"
      ]
     },
     "execution_count": 18,
     "metadata": {},
     "output_type": "execute_result"
    }
   ],
   "source": [
    "# GPU 사용 가능 확인\n",
    "# device(type='cuda', index=0) 가 뜬다면 GPU에서 훈련이 가능해지고 더 빨라집니다.\n",
    "device = torch.device(\"mps\") if torch.backends.mps.is_available() else \"cpu\"\n",
    "device"
   ]
  },
  {
   "cell_type": "code",
   "execution_count": 19,
   "metadata": {
    "colab": {
     "base_uri": "https://localhost:8080/"
    },
    "id": "cuPwcgPBE5NU",
    "outputId": "86d95720-2124-4f31-d6d8-c732c8400d3b"
   },
   "outputs": [
    {
     "name": "stdout",
     "output_type": "stream",
     "text": [
      "Requirement already satisfied: efficientnet_pytorch in /Users/stancho/anaconda3/lib/python3.10/site-packages (0.7.1)\n",
      "Requirement already satisfied: torch in /Users/stancho/anaconda3/lib/python3.10/site-packages (from efficientnet_pytorch) (2.0.1)\n",
      "Requirement already satisfied: typing-extensions in /Users/stancho/anaconda3/lib/python3.10/site-packages (from torch->efficientnet_pytorch) (4.4.0)\n",
      "Requirement already satisfied: networkx in /Users/stancho/anaconda3/lib/python3.10/site-packages (from torch->efficientnet_pytorch) (2.8.4)\n",
      "Requirement already satisfied: sympy in /Users/stancho/anaconda3/lib/python3.10/site-packages (from torch->efficientnet_pytorch) (1.11.1)\n",
      "Requirement already satisfied: jinja2 in /Users/stancho/anaconda3/lib/python3.10/site-packages (from torch->efficientnet_pytorch) (3.1.2)\n",
      "Requirement already satisfied: filelock in /Users/stancho/anaconda3/lib/python3.10/site-packages (from torch->efficientnet_pytorch) (3.9.0)\n",
      "Requirement already satisfied: MarkupSafe>=2.0 in /Users/stancho/anaconda3/lib/python3.10/site-packages (from jinja2->torch->efficientnet_pytorch) (2.1.1)\n",
      "Requirement already satisfied: mpmath>=0.19 in /Users/stancho/anaconda3/lib/python3.10/site-packages/mpmath-1.2.1-py3.10.egg (from sympy->torch->efficientnet_pytorch) (1.2.1)\n"
     ]
    }
   ],
   "source": [
    "!pip install efficientnet_pytorch"
   ]
  },
  {
   "cell_type": "code",
   "execution_count": 20,
   "metadata": {
    "colab": {
     "base_uri": "https://localhost:8080/",
     "height": 408
    },
    "id": "C7X_uiikEfz6",
    "outputId": "831b4eb3-b401-46b4-8360-9808d997d5b1"
   },
   "outputs": [
    {
     "name": "stdout",
     "output_type": "stream",
     "text": [
      "Loaded pretrained weights for efficientnet-b0\n"
     ]
    }
   ],
   "source": [
    "from efficientnet_pytorch import EfficientNet\n",
    "\n",
    "# Load the EfficientNet model\n",
    "class EfficientNet_Model(nn.Module):\n",
    "    def __init__(self, num_classes=1000, model_name='efficientnet-b0'):\n",
    "        super(EfficientNet_Model, self).__init__()\n",
    "        self.model = EfficientNet.from_pretrained(model_name)\n",
    "        in_features = self.model._fc.in_features\n",
    "\n",
    "        # Modify the classifier to match the number of desired output classes\n",
    "        self.model._fc = nn.Linear(in_features, num_classes)\n",
    "\n",
    "    def forward(self, x):\n",
    "        return self.model(x)\n",
    "\n",
    "# Usage\n",
    "model = EfficientNet_Model(model_name='efficientnet-b0')\n",
    "\n",
    "# Assuming you have a list named 'class_names' containing the names of your classes\n",
    "# Replace len(class_names) with the actual number of classes in your specific task.\n",
    "\n",
    "# 새로운 분류기를 마지막 레이어에 추가\n",
    "num_ftrs = model.model._fc.in_features\n",
    "model.model._fc = nn.Linear(num_ftrs, len(class_names))\n",
    "\n",
    "# 모델 GPU에 올리기\n",
    "model = model.to(device)\n"
   ]
  },
  {
   "cell_type": "code",
   "execution_count": 21,
   "metadata": {
    "id": "-G9iBdLGc8vi"
   },
   "outputs": [],
   "source": [
    "# 손실 함수와 optimizer 설정\n",
    "# optimizer도 다양하게 바꿔가면서 해보시면 좋습니다. 특히 lr (학습률) 관련해서 잘 설정해주세요\n",
    "criterion = nn.CrossEntropyLoss()\n",
    "optimizer = optim.SGD(model.parameters(), lr=0.05, momentum=0.9)\n",
    "\n",
    "# scheduler 설정\n",
    "# torch.optim.lr_scheduler에 보면 다양한 scheduler가 존재합니다. 한번 확인해보고 다양하게 시도해보세요\n",
    "step_lr_scheduler = torch.optim.lr_scheduler.StepLR(optimizer, step_size=7, gamma=0.1)\n",
    "\n",
    "# epoch 횟수 설정\n",
    "num_epochs=20"
   ]
  },
  {
   "cell_type": "code",
   "execution_count": 22,
   "metadata": {
    "id": "ldmRz33QdRFS",
    "scrolled": true
   },
   "outputs": [
    {
     "name": "stdout",
     "output_type": "stream",
     "text": [
      "Epoch2 1/20\n",
      "----------\n"
     ]
    },
    {
     "name": "stderr",
     "output_type": "stream",
     "text": [
      "100%|█████████████████████████████████████████| 218/218 [03:03<00:00,  1.19it/s]\n"
     ]
    },
    {
     "name": "stdout",
     "output_type": "stream",
     "text": [
      "train Loss: 2.3352 Acc: 0.4879\n"
     ]
    },
    {
     "name": "stderr",
     "output_type": "stream",
     "text": [
      "100%|███████████████████████████████████████████| 94/94 [00:29<00:00,  3.17it/s]\n"
     ]
    },
    {
     "name": "stdout",
     "output_type": "stream",
     "text": [
      "valid Loss: 1.5970 Acc: 0.5787\n",
      "Epoch2 2/20\n",
      "----------\n"
     ]
    },
    {
     "name": "stderr",
     "output_type": "stream",
     "text": [
      "100%|█████████████████████████████████████████| 218/218 [02:50<00:00,  1.28it/s]\n"
     ]
    },
    {
     "name": "stdout",
     "output_type": "stream",
     "text": [
      "train Loss: 0.9372 Acc: 0.7429\n"
     ]
    },
    {
     "name": "stderr",
     "output_type": "stream",
     "text": [
      "100%|███████████████████████████████████████████| 94/94 [00:26<00:00,  3.56it/s]\n"
     ]
    },
    {
     "name": "stdout",
     "output_type": "stream",
     "text": [
      "valid Loss: 1.3005 Acc: 0.6510\n",
      "Epoch2 3/20\n",
      "----------\n"
     ]
    },
    {
     "name": "stderr",
     "output_type": "stream",
     "text": [
      "100%|█████████████████████████████████████████| 218/218 [02:49<00:00,  1.29it/s]\n"
     ]
    },
    {
     "name": "stdout",
     "output_type": "stream",
     "text": [
      "train Loss: 0.6548 Acc: 0.8101\n"
     ]
    },
    {
     "name": "stderr",
     "output_type": "stream",
     "text": [
      "100%|███████████████████████████████████████████| 94/94 [00:29<00:00,  3.13it/s]\n"
     ]
    },
    {
     "name": "stdout",
     "output_type": "stream",
     "text": [
      "valid Loss: 1.0439 Acc: 0.7152\n",
      "Epoch2 4/20\n",
      "----------\n"
     ]
    },
    {
     "name": "stderr",
     "output_type": "stream",
     "text": [
      "100%|█████████████████████████████████████████| 218/218 [02:48<00:00,  1.29it/s]\n"
     ]
    },
    {
     "name": "stdout",
     "output_type": "stream",
     "text": [
      "train Loss: 0.5159 Acc: 0.8521\n"
     ]
    },
    {
     "name": "stderr",
     "output_type": "stream",
     "text": [
      "100%|███████████████████████████████████████████| 94/94 [00:26<00:00,  3.54it/s]\n"
     ]
    },
    {
     "name": "stdout",
     "output_type": "stream",
     "text": [
      "valid Loss: 0.9463 Acc: 0.7427\n",
      "Epoch2 5/20\n",
      "----------\n"
     ]
    },
    {
     "name": "stderr",
     "output_type": "stream",
     "text": [
      "100%|█████████████████████████████████████████| 218/218 [02:49<00:00,  1.29it/s]\n"
     ]
    },
    {
     "name": "stdout",
     "output_type": "stream",
     "text": [
      "train Loss: 0.4268 Acc: 0.8745\n"
     ]
    },
    {
     "name": "stderr",
     "output_type": "stream",
     "text": [
      "100%|███████████████████████████████████████████| 94/94 [00:29<00:00,  3.19it/s]\n"
     ]
    },
    {
     "name": "stdout",
     "output_type": "stream",
     "text": [
      "valid Loss: 0.9226 Acc: 0.7567\n",
      "Epoch2 6/20\n",
      "----------\n"
     ]
    },
    {
     "name": "stderr",
     "output_type": "stream",
     "text": [
      "100%|█████████████████████████████████████████| 218/218 [02:46<00:00,  1.31it/s]\n"
     ]
    },
    {
     "name": "stdout",
     "output_type": "stream",
     "text": [
      "train Loss: 0.3451 Acc: 0.8986\n"
     ]
    },
    {
     "name": "stderr",
     "output_type": "stream",
     "text": [
      "100%|███████████████████████████████████████████| 94/94 [00:26<00:00,  3.58it/s]\n"
     ]
    },
    {
     "name": "stdout",
     "output_type": "stream",
     "text": [
      "valid Loss: 1.0989 Acc: 0.7278\n",
      "Epoch2 7/20\n",
      "----------\n"
     ]
    },
    {
     "name": "stderr",
     "output_type": "stream",
     "text": [
      "100%|█████████████████████████████████████████| 218/218 [02:50<00:00,  1.28it/s]\n"
     ]
    },
    {
     "name": "stdout",
     "output_type": "stream",
     "text": [
      "train Loss: 0.3006 Acc: 0.9152\n"
     ]
    },
    {
     "name": "stderr",
     "output_type": "stream",
     "text": [
      "100%|███████████████████████████████████████████| 94/94 [00:27<00:00,  3.48it/s]\n"
     ]
    },
    {
     "name": "stdout",
     "output_type": "stream",
     "text": [
      "valid Loss: 0.8344 Acc: 0.7835\n",
      "Epoch2 8/20\n",
      "----------\n"
     ]
    },
    {
     "name": "stderr",
     "output_type": "stream",
     "text": [
      "100%|█████████████████████████████████████████| 218/218 [02:47<00:00,  1.30it/s]\n"
     ]
    },
    {
     "name": "stdout",
     "output_type": "stream",
     "text": [
      "train Loss: 0.1962 Acc: 0.9472\n"
     ]
    },
    {
     "name": "stderr",
     "output_type": "stream",
     "text": [
      "100%|███████████████████████████████████████████| 94/94 [00:26<00:00,  3.57it/s]\n"
     ]
    },
    {
     "name": "stdout",
     "output_type": "stream",
     "text": [
      "valid Loss: 0.5603 Acc: 0.8575\n",
      "Epoch2 9/20\n",
      "----------\n"
     ]
    },
    {
     "name": "stderr",
     "output_type": "stream",
     "text": [
      "100%|█████████████████████████████████████████| 218/218 [02:47<00:00,  1.30it/s]\n"
     ]
    },
    {
     "name": "stdout",
     "output_type": "stream",
     "text": [
      "train Loss: 0.1424 Acc: 0.9633\n"
     ]
    },
    {
     "name": "stderr",
     "output_type": "stream",
     "text": [
      "100%|███████████████████████████████████████████| 94/94 [00:26<00:00,  3.57it/s]\n"
     ]
    },
    {
     "name": "stdout",
     "output_type": "stream",
     "text": [
      "valid Loss: 0.5496 Acc: 0.8538\n",
      "Epoch2 10/20\n",
      "----------\n"
     ]
    },
    {
     "name": "stderr",
     "output_type": "stream",
     "text": [
      "100%|█████████████████████████████████████████| 218/218 [02:47<00:00,  1.30it/s]\n"
     ]
    },
    {
     "name": "stdout",
     "output_type": "stream",
     "text": [
      "train Loss: 0.1286 Acc: 0.9678\n"
     ]
    },
    {
     "name": "stderr",
     "output_type": "stream",
     "text": [
      "100%|███████████████████████████████████████████| 94/94 [00:26<00:00,  3.55it/s]\n"
     ]
    },
    {
     "name": "stdout",
     "output_type": "stream",
     "text": [
      "valid Loss: 0.5514 Acc: 0.8588\n",
      "Epoch2 11/20\n",
      "----------\n"
     ]
    },
    {
     "name": "stderr",
     "output_type": "stream",
     "text": [
      "100%|█████████████████████████████████████████| 218/218 [02:48<00:00,  1.30it/s]\n"
     ]
    },
    {
     "name": "stdout",
     "output_type": "stream",
     "text": [
      "train Loss: 0.1198 Acc: 0.9701\n"
     ]
    },
    {
     "name": "stderr",
     "output_type": "stream",
     "text": [
      "100%|███████████████████████████████████████████| 94/94 [00:27<00:00,  3.36it/s]\n"
     ]
    },
    {
     "name": "stdout",
     "output_type": "stream",
     "text": [
      "valid Loss: 0.5336 Acc: 0.8668\n",
      "Epoch2 12/20\n",
      "----------\n"
     ]
    },
    {
     "name": "stderr",
     "output_type": "stream",
     "text": [
      "100%|█████████████████████████████████████████| 218/218 [02:47<00:00,  1.30it/s]\n"
     ]
    },
    {
     "name": "stdout",
     "output_type": "stream",
     "text": [
      "train Loss: 0.1175 Acc: 0.9697\n"
     ]
    },
    {
     "name": "stderr",
     "output_type": "stream",
     "text": [
      "100%|███████████████████████████████████████████| 94/94 [00:26<00:00,  3.60it/s]\n"
     ]
    },
    {
     "name": "stdout",
     "output_type": "stream",
     "text": [
      "valid Loss: 0.5384 Acc: 0.8635\n",
      "Epoch2 13/20\n",
      "----------\n"
     ]
    },
    {
     "name": "stderr",
     "output_type": "stream",
     "text": [
      "100%|█████████████████████████████████████████| 218/218 [02:47<00:00,  1.30it/s]\n"
     ]
    },
    {
     "name": "stdout",
     "output_type": "stream",
     "text": [
      "train Loss: 0.1130 Acc: 0.9728\n"
     ]
    },
    {
     "name": "stderr",
     "output_type": "stream",
     "text": [
      "100%|███████████████████████████████████████████| 94/94 [00:26<00:00,  3.54it/s]\n"
     ]
    },
    {
     "name": "stdout",
     "output_type": "stream",
     "text": [
      "valid Loss: 0.5411 Acc: 0.8650\n",
      "Epoch2 14/20\n",
      "----------\n"
     ]
    },
    {
     "name": "stderr",
     "output_type": "stream",
     "text": [
      "100%|█████████████████████████████████████████| 218/218 [02:52<00:00,  1.27it/s]\n"
     ]
    },
    {
     "name": "stdout",
     "output_type": "stream",
     "text": [
      "train Loss: 0.1045 Acc: 0.9739\n"
     ]
    },
    {
     "name": "stderr",
     "output_type": "stream",
     "text": [
      "100%|███████████████████████████████████████████| 94/94 [00:26<00:00,  3.53it/s]\n"
     ]
    },
    {
     "name": "stdout",
     "output_type": "stream",
     "text": [
      "valid Loss: 0.5316 Acc: 0.8672\n",
      "Epoch2 15/20\n",
      "----------\n"
     ]
    },
    {
     "name": "stderr",
     "output_type": "stream",
     "text": [
      "100%|█████████████████████████████████████████| 218/218 [02:48<00:00,  1.30it/s]\n"
     ]
    },
    {
     "name": "stdout",
     "output_type": "stream",
     "text": [
      "train Loss: 0.0949 Acc: 0.9769\n"
     ]
    },
    {
     "name": "stderr",
     "output_type": "stream",
     "text": [
      "100%|███████████████████████████████████████████| 94/94 [00:26<00:00,  3.61it/s]\n"
     ]
    },
    {
     "name": "stdout",
     "output_type": "stream",
     "text": [
      "valid Loss: 0.5282 Acc: 0.8722\n",
      "Epoch2 16/20\n",
      "----------\n"
     ]
    },
    {
     "name": "stderr",
     "output_type": "stream",
     "text": [
      "100%|█████████████████████████████████████████| 218/218 [02:47<00:00,  1.30it/s]\n"
     ]
    },
    {
     "name": "stdout",
     "output_type": "stream",
     "text": [
      "train Loss: 0.0990 Acc: 0.9771\n"
     ]
    },
    {
     "name": "stderr",
     "output_type": "stream",
     "text": [
      "100%|███████████████████████████████████████████| 94/94 [00:26<00:00,  3.61it/s]\n"
     ]
    },
    {
     "name": "stdout",
     "output_type": "stream",
     "text": [
      "valid Loss: 0.5206 Acc: 0.8687\n",
      "Epoch2 17/20\n",
      "----------\n"
     ]
    },
    {
     "name": "stderr",
     "output_type": "stream",
     "text": [
      "100%|█████████████████████████████████████████| 218/218 [02:48<00:00,  1.29it/s]\n"
     ]
    },
    {
     "name": "stdout",
     "output_type": "stream",
     "text": [
      "train Loss: 0.0977 Acc: 0.9752\n"
     ]
    },
    {
     "name": "stderr",
     "output_type": "stream",
     "text": [
      "100%|███████████████████████████████████████████| 94/94 [00:26<00:00,  3.56it/s]\n"
     ]
    },
    {
     "name": "stdout",
     "output_type": "stream",
     "text": [
      "valid Loss: 0.5209 Acc: 0.8687\n",
      "Epoch2 18/20\n",
      "----------\n"
     ]
    },
    {
     "name": "stderr",
     "output_type": "stream",
     "text": [
      "100%|█████████████████████████████████████████| 218/218 [02:48<00:00,  1.29it/s]\n"
     ]
    },
    {
     "name": "stdout",
     "output_type": "stream",
     "text": [
      "train Loss: 0.0982 Acc: 0.9761\n"
     ]
    },
    {
     "name": "stderr",
     "output_type": "stream",
     "text": [
      "100%|███████████████████████████████████████████| 94/94 [00:26<00:00,  3.58it/s]\n"
     ]
    },
    {
     "name": "stdout",
     "output_type": "stream",
     "text": [
      "valid Loss: 0.5379 Acc: 0.8665\n",
      "Epoch2 19/20\n",
      "----------\n"
     ]
    },
    {
     "name": "stderr",
     "output_type": "stream",
     "text": [
      "100%|█████████████████████████████████████████| 218/218 [02:48<00:00,  1.29it/s]\n"
     ]
    },
    {
     "name": "stdout",
     "output_type": "stream",
     "text": [
      "train Loss: 0.0945 Acc: 0.9766\n"
     ]
    },
    {
     "name": "stderr",
     "output_type": "stream",
     "text": [
      "100%|███████████████████████████████████████████| 94/94 [00:26<00:00,  3.51it/s]\n"
     ]
    },
    {
     "name": "stdout",
     "output_type": "stream",
     "text": [
      "valid Loss: 0.5358 Acc: 0.8739\n",
      "Epoch2 20/20\n",
      "----------\n"
     ]
    },
    {
     "name": "stderr",
     "output_type": "stream",
     "text": [
      "100%|█████████████████████████████████████████| 218/218 [02:48<00:00,  1.29it/s]\n"
     ]
    },
    {
     "name": "stdout",
     "output_type": "stream",
     "text": [
      "train Loss: 0.0936 Acc: 0.9768\n"
     ]
    },
    {
     "name": "stderr",
     "output_type": "stream",
     "text": [
      "100%|███████████████████████████████████████████| 94/94 [00:26<00:00,  3.55it/s]\n"
     ]
    },
    {
     "name": "stdout",
     "output_type": "stream",
     "text": [
      "valid Loss: 0.5138 Acc: 0.8694\n",
      "Training complete\n"
     ]
    },
    {
     "data": {
      "image/png": "[encoded data removed]",
      "text/plain": [
       "<Figure size 640x480 with 1 Axes>"
      ]
     },
     "metadata": {},
     "output_type": "display_data"
    }
   ],
   "source": [
    "import matplotlib.pyplot as plt\n",
    "\n",
    "# Lists to store loss values for plotting\n",
    "train_losses = []\n",
    "valid_losses = []\n",
    "\n",
    "for epoch in range(num_epochs):\n",
    "    print('Epoch2 {}/{}'.format(epoch+1, num_epochs))\n",
    "    print('-' * 10)\n",
    "    for phase in ['train', 'valid']:\n",
    "        if phase == 'train':\n",
    "            dataloader = train_loader\n",
    "            model.train()\n",
    "        else:\n",
    "            dataloader = valid_loader\n",
    "            model.eval()\n",
    "\n",
    "        running_loss = 0.0\n",
    "        running_corrects = 0.0  # Initialize as float32\n",
    "\n",
    "        for inputs, labels in tqdm(dataloader):\n",
    "            inputs = inputs.to(device)\n",
    "            labels = labels.to(device)\n",
    "\n",
    "            optimizer.zero_grad()\n",
    "\n",
    "            with torch.set_grad_enabled(phase == 'train'):\n",
    "                outputs = model(inputs)\n",
    "                _, preds = torch.max(outputs, 1)\n",
    "                loss = criterion(outputs, labels)\n",
    "\n",
    "                if phase == 'train':\n",
    "                    loss.backward()\n",
    "                    optimizer.step()\n",
    "\n",
    "            # Convert  the loss and running_corrects tensors to float32\n",
    "            loss = loss.float()\n",
    "            running_corrects += torch.sum(preds == labels.data).float()\n",
    "\n",
    "            running_loss += loss.item() * inputs.size(0)\n",
    "        if phase == 'train':\n",
    "            step_lr_scheduler.step()\n",
    "\n",
    "        epoch_loss = running_loss / len(dataloader.dataset)\n",
    "        epoch_acc = running_corrects / len(dataloader.dataset)  # Update this line\n",
    "\n",
    "        print('{} Loss: {:.4f} Acc: {:.4f}'.format(\n",
    "            phase, epoch_loss, epoch_acc))\n",
    "\n",
    "        # Save loss values for plotting\n",
    "        if phase == 'train':\n",
    "            train_losses.append(epoch_loss)\n",
    "        else:\n",
    "            valid_losses.append(epoch_loss)\n",
    "\n",
    "print('Training complete')\n",
    "\n",
    "# Plot the loss values\n",
    "plt.figure()\n",
    "plt.plot(range(1, num_epochs + 1), train_losses, label='Train Loss')\n",
    "plt.plot(range(1, num_epochs + 1), valid_losses, label='Validation Loss')\n",
    "plt.xlabel('Epoch')\n",
    "plt.ylabel('Loss')\n",
    "plt.legend()\n",
    "plt.show()\n"
   ]
  },
  {
   "cell_type": "code",
   "execution_count": 23,
   "metadata": {
    "id": "2aT1GfSTiIWT"
   },
   "outputs": [
    {
     "name": "stdout",
     "output_type": "stream",
     "text": [
      "SGD (\n",
      "Parameter Group 0\n",
      "    dampening: 0\n",
      "    differentiable: False\n",
      "    foreach: None\n",
      "    initial_lr: 0.05\n",
      "    lr: 0.0005000000000000001\n",
      "    maximize: False\n",
      "    momentum: 0.9\n",
      "    nesterov: False\n",
      "    weight_decay: 0\n",
      ")\n"
     ]
    }
   ],
   "source": [
    "print(optimizer)"
   ]
  },
  {
   "cell_type": "code",
   "execution_count": null,
   "metadata": {},
   "outputs": [],
   "source": []
  }
 ],
 "metadata": {
  "accelerator": "GPU",
  "colab": {
   "gpuType": "T4",
   "provenance": []
  },
  "kernelspec": {
   "display_name": "Python 3 (ipykernel)",
   "language": "python",
   "name": "python3"
  },
  "language_info": {
   "codemirror_mode": {
    "name": "ipython",
    "version": 3
   },
   "file_extension": ".py",
   "mimetype": "text/x-python",
   "name": "python",
   "nbconvert_exporter": "python",
   "pygments_lexer": "ipython3",
   "version": "3.10.9"
  }
 },
 "nbformat": 4,
 "nbformat_minor": 1
}
