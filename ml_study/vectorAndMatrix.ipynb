{
 "cells": [
  {
   "cell_type": "markdown",
   "metadata": {},
   "source": [
    "## 벡터와 행렬 "
   ]
  },
  {
   "cell_type": "markdown",
   "metadata": {},
   "source": [
    "### 벡터의 노름\n",
    ": 원점에서부터의 거리\n",
    "\n",
    "노름의 종류에 따라 기하학적 성질이 달라짐\n",
    "\n",
    "기계학습의 목적에 따라 달라지는 것\n"
   ]
  },
  {
   "cell_type": "markdown",
   "metadata": {},
   "source": [
    "#### L1-norm\n",
    "- 성분의 변화량의 절대값을 모두 더한 것\n",
    "- L1-norm 상의 원은 마름모꼴 모양이 됨\n",
    "#### L2-norm\n",
    "- 유클리드 거리 계산 \n",
    "- L2-norm 상의 원은 원 모양이 됨"
   ]
  },
  {
   "cell_type": "code",
   "execution_count": 2,
   "metadata": {},
   "outputs": [],
   "source": [
    "import numpy as np"
   ]
  },
  {
   "cell_type": "code",
   "execution_count": 3,
   "metadata": {},
   "outputs": [],
   "source": [
    "def l1_norm(x):\n",
    "    x_norm = np.abs(x)\n",
    "    x_norm = np.sum(x_norm)\n",
    "    return x_norm"
   ]
  },
  {
   "cell_type": "code",
   "execution_count": 4,
   "metadata": {},
   "outputs": [],
   "source": [
    "def l2_norm(x):\n",
    "    x_norm = x*x\n",
    "    x_norm = np.sum(x_norm)\n",
    "    x_norm = np.sqrt(x_norm)\n",
    "    return x_norm"
   ]
  },
  {
   "cell_type": "markdown",
   "metadata": {},
   "source": [
    "#### 두 벡터 사이 거리 구하기\n",
    "- 벡터의 뺄셈 이용\n",
    "#### 두 벡터 사이의 각도 구하기\n",
    "- L2-노름을 이용해야 함. \n",
    "- 유클리드 거리를 이용해서 제2코사인 법칙에 의해 각도를 계산할 수 있음. (다른 차원도 가능)\n",
    "- 제 2 코사인 법칙이용\n",
    "#### 내적\n",
    ": 정사영된 벡터의 길이와 관련 있음\n",
    "- 정사영된 벡터 길이 : proj(x) 는 코사인법칙에 의해 ||X||cos(theta)가 됨\n",
    "- 내적은 이 정사영된 길이를 벡터 y의 길이 ||y||만큼 조정한 값"
   ]
  },
  {
   "cell_type": "code",
   "execution_count": 5,
   "metadata": {},
   "outputs": [],
   "source": [
    "def angle(x,y):\n",
    "    #inner은 내적 구하기\n",
    "    v = np.inner(x,y) / (l2_norm(x) * l2_norm(y))\n",
    "    theta = np.arccos(v)  #코사인 역을 곱해줌\n",
    "    return theta"
   ]
  },
  {
   "cell_type": "markdown",
   "metadata": {},
   "source": [
    "## 행렬\n",
    ": 벡터를 원소로 가지는 2차원 배열\n",
    "- numpy에서는 행이 기준\n",
    "- n개의 행과 m개의 열 \n",
    "\n",
    "- 공간에서 여러점들을 나타냄\n",
    "- 행 벡터 xi는 i번째 데이터를 말함\n",
    "#### 전치행렬\n",
    "행과 열의 인덱스가 바뀐 행렬"
   ]
  },
  {
   "cell_type": "code",
   "execution_count": 16,
   "metadata": {},
   "outputs": [
    {
     "data": {
      "text/plain": [
       "array([[1, 2, 3],\n",
       "       [4, 5, 6]])"
      ]
     },
     "execution_count": 16,
     "metadata": {},
     "output_type": "execute_result"
    }
   ],
   "source": [
    "# 행렬 곱셈 : i번째 행벡터와 j번째 열벡터 사이의 내적을 성분으로 가지는 행렬 계산\n",
    "# x의 행의 개수와 y의 열의 개수가 같아야 함\n",
    "x = np.array([[1,2,3],[4,5,6],[7,8,9]])\n",
    "y = np.array([[1,2],[3,4],[5,6]])\n",
    "y.resize(2,3)\n",
    "y"
   ]
  },
  {
   "cell_type": "code",
   "execution_count": 17,
   "metadata": {},
   "outputs": [
    {
     "data": {
      "text/plain": [
       "array([[ 14,  32],\n",
       "       [ 32,  77],\n",
       "       [ 50, 122]])"
      ]
     },
     "execution_count": 17,
     "metadata": {},
     "output_type": "execute_result"
    }
   ],
   "source": [
    "#inner 수행시 x의 행의 개수가 y의 행의 개수와 같아야 함 (수학에서 말하는 내적과 다름)\n",
    "np.inner(x,y)"
   ]
  },
  {
   "cell_type": "markdown",
   "metadata": {},
   "source": [
    "행렬곱을 통해 벡터를 다른 차원의 공간으로 보낼 수 있음\n",
    "### 역행렬\n",
    "- 행과 열 숫자가 같아야 함\n",
    "- 행렬식이 0이 아닌 경우에만 계산 가능\n",
    "- 되돌아오게 하는게 가능함. A-1A = I 항등행렬 "
   ]
  },
  {
   "cell_type": "code",
   "execution_count": 23,
   "metadata": {},
   "outputs": [
    {
     "data": {
      "text/plain": [
       "array([[1, 2, 3],\n",
       "       [4, 5, 6],\n",
       "       [7, 8, 9]])"
      ]
     },
     "execution_count": 23,
     "metadata": {},
     "output_type": "execute_result"
    }
   ],
   "source": [
    "x"
   ]
  },
  {
   "cell_type": "code",
   "execution_count": 29,
   "metadata": {},
   "outputs": [
    {
     "data": {
      "text/plain": [
       "array([[ 0.,  0.,  0.],\n",
       "       [-4.,  0., -4.],\n",
       "       [ 0.,  0.,  0.]])"
      ]
     },
     "execution_count": 29,
     "metadata": {},
     "output_type": "execute_result"
    }
   ],
   "source": [
    "x @ np.linalg.inv(x)"
   ]
  },
  {
   "cell_type": "markdown",
   "metadata": {},
   "source": [
    "### 유사역행렬 \n",
    "역행렬을 사용할 수 없다면 이용\n",
    "- n >= m 이면 A+A = I가 성립\n",
    "- n <= m 이면 AA+ = I가 성립 \n",
    "\n",
    "선형회귀식을 찾을 수 있음. X*beta = y일 때 계수 beta를 찾음\n",
    "\n",
    "- 연립방정식과 달리 행이 더 크므로 방정식으로 풀 수 없음.\n",
    "- n>=인 경우, 데이터가 변수 개수보다 많거나 같아야 함.\n",
    "\n",
    "차이를 최소화하는 y헷을 찾아야 함"
   ]
  },
  {
   "cell_type": "code",
   "execution_count": 36,
   "metadata": {},
   "outputs": [],
   "source": [
    "y = np.array([[0, 1],\n",
    "              [1, -1],\n",
    "              [-2, 1]])"
   ]
  },
  {
   "cell_type": "code",
   "execution_count": 37,
   "metadata": {},
   "outputs": [
    {
     "data": {
      "text/plain": [
       "array([[ 5.00000000e-01,  1.11022302e-16, -5.00000000e-01],\n",
       "       [ 8.33333333e-01, -3.33333333e-01, -1.66666667e-01]])"
      ]
     },
     "execution_count": 37,
     "metadata": {},
     "output_type": "execute_result"
    }
   ],
   "source": [
    "np.linalg.pinv(y)"
   ]
  },
  {
   "cell_type": "code",
   "execution_count": 38,
   "metadata": {},
   "outputs": [
    {
     "data": {
      "text/plain": [
       "array([[ 1.00000000e+00, -2.22044605e-16],\n",
       "       [ 1.11022302e-16,  1.00000000e+00]])"
      ]
     },
     "execution_count": 38,
     "metadata": {},
     "output_type": "execute_result"
    }
   ],
   "source": [
    "np.linalg.pinv(y) @ y #순서 주의"
   ]
  },
  {
   "cell_type": "code",
   "execution_count": 42,
   "metadata": {},
   "outputs": [],
   "source": [
    "X = np.arange(9).reshape(3,3)"
   ]
  }
 ],
 "metadata": {
  "kernelspec": {
   "display_name": "Python 3",
   "language": "python",
   "name": "python3"
  },
  "language_info": {
   "codemirror_mode": {
    "name": "ipython",
    "version": 3
   },
   "file_extension": ".py",
   "mimetype": "text/x-python",
   "name": "python",
   "nbconvert_exporter": "python",
   "pygments_lexer": "ipython3",
   "version": "3.9.13"
  },
  "orig_nbformat": 4
 },
 "nbformat": 4,
 "nbformat_minor": 2
}
