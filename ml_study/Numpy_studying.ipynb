{
 "cells": [
  {
   "cell_type": "markdown",
   "id": "04eb5262",
   "metadata": {},
   "source": [
    "## ndarray\n",
    "- np.array로 활용 배열 생성\n",
    "- **하나의 데이터 타입** 만 배열에 넣을 수 있음 (C처럼)\n",
    "\n",
    "차례대로 데이터가 메모리에 들어감 (붙어있음) > 메모리의 접근성이 좋음\n",
    "\n",
    "메모리에 들어가는 게 일정해서 좋음"
   ]
  },
  {
   "cell_type": "code",
   "execution_count": 3,
   "id": "af55454e",
   "metadata": {},
   "outputs": [],
   "source": [
    "import numpy as np"
   ]
  },
  {
   "cell_type": "code",
   "execution_count": 4,
   "id": "7bd55c1d",
   "metadata": {},
   "outputs": [
    {
     "data": {
      "text/plain": [
       "numpy.ndarray"
      ]
     },
     "execution_count": 4,
     "metadata": {},
     "output_type": "execute_result"
    }
   ],
   "source": [
    "#다 다른 타입을 넣어도 자동 형변환 일어남\n",
    "test_array = np.array([\"1\", 4.0, 5, 8], float)\n",
    "type(test_array)"
   ]
  },
  {
   "cell_type": "code",
   "execution_count": 5,
   "id": "9baf9c90",
   "metadata": {},
   "outputs": [],
   "source": [
    "a = [1, 2, 3, 4, 5]\n",
    "b = [5,4,3,2,1]"
   ]
  },
  {
   "cell_type": "code",
   "execution_count": 6,
   "id": "8faecc73",
   "metadata": {},
   "outputs": [
    {
     "data": {
      "text/plain": [
       "False"
      ]
     },
     "execution_count": 6,
     "metadata": {},
     "output_type": "execute_result"
    }
   ],
   "source": [
    "a = np.array(a, int)\n",
    "b = np.array(b, int)\n",
    "a[0] is b[4] #그냥 배열이면 같아야하는데 nparray라 다름"
   ]
  },
  {
   "cell_type": "code",
   "execution_count": 7,
   "id": "9f0b7bdc",
   "metadata": {},
   "outputs": [
    {
     "data": {
      "text/plain": [
       "array([1, 2, 3])"
      ]
     },
     "execution_count": 7,
     "metadata": {},
     "output_type": "execute_result"
    }
   ],
   "source": [
    "test_array.dtype #전체 데이터 type, 8바이트\n",
    "np.array([1, 2, 3], dtype = int)"
   ]
  },
  {
   "cell_type": "code",
   "execution_count": 8,
   "id": "50929135",
   "metadata": {},
   "outputs": [
    {
     "data": {
      "text/plain": [
       "(4,)"
      ]
     },
     "execution_count": 8,
     "metadata": {},
     "output_type": "execute_result"
    }
   ],
   "source": [
    "test_array.shape #어떻게 구성되어 있는지"
   ]
  },
  {
   "cell_type": "code",
   "execution_count": 9,
   "id": "886b532c",
   "metadata": {},
   "outputs": [
    {
     "data": {
      "text/plain": [
       "1"
      ]
     },
     "execution_count": 9,
     "metadata": {},
     "output_type": "execute_result"
    }
   ],
   "source": [
    "test_array.ndim #몇 차원인지"
   ]
  },
  {
   "cell_type": "code",
   "execution_count": 10,
   "id": "9106826d",
   "metadata": {},
   "outputs": [
    {
     "data": {
      "text/plain": [
       "4"
      ]
     },
     "execution_count": 10,
     "metadata": {},
     "output_type": "execute_result"
    }
   ],
   "source": [
    "test_array.size #총 크기"
   ]
  },
  {
   "cell_type": "markdown",
   "id": "57bfa5ec",
   "metadata": {},
   "source": [
    "### array shape\n",
    "**array rank에 따라 불리는 이름이 있음**\n",
    "- 0 : scalar\n",
    "- 1 : vector\n",
    "- 2 : matrix (열, 행 개수)\n",
    "- 3 : 3-tensor (열, 행, 층)\n",
    "- n : n-tensor\n",
    "\n",
    "float32 면 32bits = 4byte, 만약 6개라면 24bytes 차지\n",
    "int8 이면 8 bits = 1byte, 6bytes차지\n",
    "float64라면 64bits = 8byte, 48bytes 차지"
   ]
  },
  {
   "cell_type": "code",
   "execution_count": 11,
   "id": "f404e789",
   "metadata": {},
   "outputs": [],
   "source": [
    "#reshape\n",
    "## -1을 넣으면 size를 기반으로 row 개수 선정\n",
    "test_matrix = [[1,2,3],[4,5,6]]"
   ]
  },
  {
   "cell_type": "code",
   "execution_count": 12,
   "id": "8e1f37c1",
   "metadata": {},
   "outputs": [
    {
     "data": {
      "text/plain": [
       "array([[1, 2],\n",
       "       [3, 4],\n",
       "       [5, 6]])"
      ]
     },
     "execution_count": 12,
     "metadata": {},
     "output_type": "execute_result"
    }
   ],
   "source": [
    "np.array(test_matrix).reshape(-1,2)"
   ]
  },
  {
   "cell_type": "code",
   "execution_count": 13,
   "id": "25ba19e0",
   "metadata": {},
   "outputs": [
    {
     "data": {
      "text/plain": [
       "array([[[1],\n",
       "        [2],\n",
       "        [3]],\n",
       "\n",
       "       [[4],\n",
       "        [5],\n",
       "        [6]]])"
      ]
     },
     "execution_count": 13,
     "metadata": {},
     "output_type": "execute_result"
    }
   ],
   "source": [
    "np.array(test_matrix).reshape(2,-1,1)"
   ]
  },
  {
   "cell_type": "code",
   "execution_count": 14,
   "id": "8362fb74",
   "metadata": {},
   "outputs": [
    {
     "data": {
      "text/plain": [
       "array([1, 2, 3, 4, 5, 6])"
      ]
     },
     "execution_count": 14,
     "metadata": {},
     "output_type": "execute_result"
    }
   ],
   "source": [
    "#flatten : 다차원 array를 1차원 array로 변환\n",
    "np.array(test_matrix).flatten()"
   ]
  },
  {
   "cell_type": "code",
   "execution_count": 15,
   "id": "4e5fcd68",
   "metadata": {},
   "outputs": [
    {
     "data": {
      "text/plain": [
       "5"
      ]
     },
     "execution_count": 15,
     "metadata": {},
     "output_type": "execute_result"
    }
   ],
   "source": [
    "#indexing 할 때 이차원 배열에서 [0,0]식으로 쓸 수 있음\n",
    "test_exam = np.array(test_matrix)\n",
    "test_exam[1,1]"
   ]
  },
  {
   "cell_type": "code",
   "execution_count": 16,
   "id": "16d8ec58",
   "metadata": {},
   "outputs": [
    {
     "data": {
      "text/plain": [
       "array([[1, 2],\n",
       "       [4, 5]])"
      ]
     },
     "execution_count": 16,
     "metadata": {},
     "output_type": "execute_result"
    }
   ],
   "source": [
    "#slicing 할 때, 행과 열 부분을 나눠서 가져갈 수 있음 (부분 집합 이용 가능)\n",
    "test_exam[:,:2]"
   ]
  },
  {
   "cell_type": "code",
   "execution_count": 17,
   "id": "52a140c1",
   "metadata": {},
   "outputs": [
    {
     "data": {
      "text/plain": [
       "array([[ 0,  1,  2,  3,  4,  5,  6,  7,  8,  9],\n",
       "       [10, 11, 12, 13, 14, 15, 16, 17, 18, 19],\n",
       "       [20, 21, 22, 23, 24, 25, 26, 27, 28, 29],\n",
       "       [30, 31, 32, 33, 34, 35, 36, 37, 38, 39],\n",
       "       [40, 41, 42, 43, 44, 45, 46, 47, 48, 49],\n",
       "       [50, 51, 52, 53, 54, 55, 56, 57, 58, 59],\n",
       "       [60, 61, 62, 63, 64, 65, 66, 67, 68, 69],\n",
       "       [70, 71, 72, 73, 74, 75, 76, 77, 78, 79],\n",
       "       [80, 81, 82, 83, 84, 85, 86, 87, 88, 89],\n",
       "       [90, 91, 92, 93, 94, 95, 96, 97, 98, 99]])"
      ]
     },
     "execution_count": 17,
     "metadata": {},
     "output_type": "execute_result"
    }
   ],
   "source": [
    "k = np.arange(100).reshape(10,10)\n",
    "#array의 범위를 지정해서 값의 list 생성\n",
    "#arrange(시작, 끝, step) step은 float도 가능\n",
    "k"
   ]
  },
  {
   "cell_type": "code",
   "execution_count": 18,
   "id": "afc93867",
   "metadata": {},
   "outputs": [
    {
     "data": {
      "text/plain": [
       "array([ 9, 19, 29, 39, 49, 59, 69, 79, 89, 99])"
      ]
     },
     "execution_count": 18,
     "metadata": {},
     "output_type": "execute_result"
    }
   ],
   "source": [
    "k[:, -1]"
   ]
  },
  {
   "cell_type": "code",
   "execution_count": 19,
   "id": "fbbd0d81",
   "metadata": {},
   "outputs": [
    {
     "data": {
      "text/plain": [
       "array([[ 0,  2,  4,  6,  8],\n",
       "       [10, 12, 14, 16, 18],\n",
       "       [20, 22, 24, 26, 28],\n",
       "       [30, 32, 34, 36, 38],\n",
       "       [40, 42, 44, 46, 48],\n",
       "       [50, 52, 54, 56, 58],\n",
       "       [60, 62, 64, 66, 68],\n",
       "       [70, 72, 74, 76, 78],\n",
       "       [80, 82, 84, 86, 88],\n",
       "       [90, 92, 94, 96, 98]])"
      ]
     },
     "execution_count": 19,
     "metadata": {},
     "output_type": "execute_result"
    }
   ],
   "source": [
    "#건너 뛰는 것도 가능함\n",
    "k[:,::2]"
   ]
  },
  {
   "cell_type": "code",
   "execution_count": 20,
   "id": "cb04903c",
   "metadata": {},
   "outputs": [
    {
     "data": {
      "text/plain": [
       "array([1. , 1.5])"
      ]
     },
     "execution_count": 20,
     "metadata": {},
     "output_type": "execute_result"
    }
   ],
   "source": [
    "p = np.arange(1, 2, 0.5)\n",
    "p"
   ]
  },
  {
   "cell_type": "code",
   "execution_count": 21,
   "id": "f74478be",
   "metadata": {},
   "outputs": [
    {
     "data": {
      "text/plain": [
       "array([[0., 0., 0., 0., 0.],\n",
       "       [0., 0., 0., 0., 0.]])"
      ]
     },
     "execution_count": 21,
     "metadata": {},
     "output_type": "execute_result"
    }
   ],
   "source": [
    "#zeros : 0으로 가득찬 ndarray 생성\n",
    "#np.zeros(shape, dtype, order)\n",
    "np.zeros((2,5))"
   ]
  },
  {
   "cell_type": "code",
   "execution_count": 22,
   "id": "3c53f876",
   "metadata": {},
   "outputs": [
    {
     "data": {
      "text/plain": [
       "array([[0., 0., 0., 0., 0.],\n",
       "       [0., 0., 0., 0., 0.]])"
      ]
     },
     "execution_count": 22,
     "metadata": {},
     "output_type": "execute_result"
    }
   ],
   "source": [
    "#ones : 1로 가득찬 녀석 생성\n",
    "#empty : shpae만 주어지고 비어진 ndarray생성 (초기화 안돼있음)\n",
    "np.empty((2,5))"
   ]
  },
  {
   "cell_type": "code",
   "execution_count": 23,
   "id": "aa050f05",
   "metadata": {},
   "outputs": [
    {
     "data": {
      "text/plain": [
       "array([[1, 1, 1],\n",
       "       [1, 1, 1]])"
      ]
     },
     "execution_count": 23,
     "metadata": {},
     "output_type": "execute_result"
    }
   ],
   "source": [
    "#something_like : 기존 ndarray의 shape 크기 만큼 1, 0 또는 empty array 반환\n",
    "np.ones_like(test_exam)"
   ]
  },
  {
   "cell_type": "code",
   "execution_count": 24,
   "id": "a94cce7f",
   "metadata": {},
   "outputs": [
    {
     "data": {
      "text/plain": [
       "array([[1., 0., 0., 0., 0.],\n",
       "       [0., 1., 0., 0., 0.],\n",
       "       [0., 0., 1., 0., 0.],\n",
       "       [0., 0., 0., 1., 0.],\n",
       "       [0., 0., 0., 0., 1.]])"
      ]
     },
     "execution_count": 24,
     "metadata": {},
     "output_type": "execute_result"
    }
   ],
   "source": [
    "#identity 단위 행렬 생성 \n",
    "np.identity(5)"
   ]
  },
  {
   "cell_type": "code",
   "execution_count": 25,
   "id": "cc3e2b33",
   "metadata": {},
   "outputs": [
    {
     "data": {
      "text/plain": [
       "array([[0., 1., 0., 0., 0.],\n",
       "       [0., 0., 1., 0., 0.],\n",
       "       [0., 0., 0., 1., 0.]])"
      ]
     },
     "execution_count": 25,
     "metadata": {},
     "output_type": "execute_result"
    }
   ],
   "source": [
    "#eye 대각선이 1인 행렬, k값의 시작 index 변경 가능\n",
    "np.eye(3, 5, k = 1)"
   ]
  },
  {
   "cell_type": "code",
   "execution_count": 26,
   "id": "4477bc21",
   "metadata": {},
   "outputs": [
    {
     "data": {
      "text/plain": [
       "array([[1, 2, 3],\n",
       "       [4, 5, 6]])"
      ]
     },
     "execution_count": 26,
     "metadata": {},
     "output_type": "execute_result"
    }
   ],
   "source": [
    "test_exam"
   ]
  },
  {
   "cell_type": "code",
   "execution_count": 27,
   "id": "231a1786",
   "metadata": {},
   "outputs": [
    {
     "data": {
      "text/plain": [
       "array([2, 6])"
      ]
     },
     "execution_count": 27,
     "metadata": {},
     "output_type": "execute_result"
    }
   ],
   "source": [
    "#diag 대각 행렬의 값 추출 k는 start index\n",
    "np.diag(test_exam, k = 1)"
   ]
  },
  {
   "cell_type": "code",
   "execution_count": 28,
   "id": "1dbdf277",
   "metadata": {},
   "outputs": [
    {
     "data": {
      "text/plain": [
       "array([[0.08252939, 0.41894889, 0.33180906, 0.05086391, 0.02592039],\n",
       "       [0.25049789, 0.81899891, 0.4588976 , 0.57118457, 0.2579569 ]])"
      ]
     },
     "execution_count": 28,
     "metadata": {},
     "output_type": "execute_result"
    }
   ],
   "source": [
    "#random sampling으로 array 생성\n",
    "#균등분포\n",
    "np.random.uniform(0, 1, 10).reshape(2,5)"
   ]
  },
  {
   "cell_type": "code",
   "execution_count": 29,
   "id": "2c8f09ac",
   "metadata": {},
   "outputs": [
    {
     "data": {
      "text/plain": [
       "array([[-0.23962769, -0.45421702, -1.16051656, -0.05718792, -0.85384191],\n",
       "       [ 1.98188013, -0.35962191,  0.60300472,  0.24258863, -0.90628277]])"
      ]
     },
     "execution_count": 29,
     "metadata": {},
     "output_type": "execute_result"
    }
   ],
   "source": [
    "#정규분포\n",
    "np.random.normal(0, 1, 10).reshape(2, 5)"
   ]
  },
  {
   "cell_type": "code",
   "execution_count": 30,
   "id": "69f4e866",
   "metadata": {},
   "outputs": [
    {
     "data": {
      "text/plain": [
       "21.0"
      ]
     },
     "execution_count": 30,
     "metadata": {},
     "output_type": "execute_result"
    }
   ],
   "source": [
    "#sum, dytype 가능 평균 : mean, 표준편차 : std\n",
    "test_exam.sum(dtype=np.float32)"
   ]
  },
  {
   "cell_type": "code",
   "execution_count": 31,
   "id": "636efb08",
   "metadata": {},
   "outputs": [
    {
     "data": {
      "text/plain": [
       "array([ 6, 15])"
      ]
     },
     "execution_count": 31,
     "metadata": {},
     "output_type": "execute_result"
    }
   ],
   "source": [
    "# axis : 기준이 되는 dimension 축\n",
    "# (3,3,4) 일 때 axis = 0, 1, 2\n",
    "test_exam.sum(axis = 1) #식으로 사용가능 > 행끼리 앞"
   ]
  },
  {
   "cell_type": "code",
   "execution_count": 39,
   "id": "43e9bbd0",
   "metadata": {},
   "outputs": [
    {
     "data": {
      "text/plain": [
       "array([[1, 2, 3],\n",
       "       [2, 3, 4]])"
      ]
     },
     "execution_count": 39,
     "metadata": {},
     "output_type": "execute_result"
    }
   ],
   "source": [
    "#concatenate : numpy array를 합치는 함수\n",
    "x = np.array([[1,2,3]])\n",
    "y = np.array([[2,3,4]])\n",
    "np.concatenate((x,y), axis=0) # 행 기준"
   ]
  },
  {
   "cell_type": "markdown",
   "id": "22327abc",
   "metadata": {},
   "source": [
    "기본적인 사칙 연산 지원함.\n",
    "element-wise operation : array간 shape이 같을 때 일어나는 연산\n",
    "### 기본 연산 dot"
   ]
  },
  {
   "cell_type": "code",
   "execution_count": 40,
   "id": "ebda95f5",
   "metadata": {},
   "outputs": [
    {
     "data": {
      "text/plain": [
       "array([[ 58,  64],\n",
       "       [139, 154]])"
      ]
     },
     "execution_count": 40,
     "metadata": {},
     "output_type": "execute_result"
    }
   ],
   "source": [
    "test_a = np.arange(1,7).reshape(2,3)\n",
    "test_b = np.arange(7,13).reshape(3,2)\n",
    "test_a.dot(test_b)"
   ]
  },
  {
   "cell_type": "code",
   "execution_count": 41,
   "id": "343045ac",
   "metadata": {},
   "outputs": [
    {
     "data": {
      "text/plain": [
       "array([[1, 4],\n",
       "       [2, 5],\n",
       "       [3, 6]])"
      ]
     },
     "execution_count": 41,
     "metadata": {},
     "output_type": "execute_result"
    }
   ],
   "source": [
    "#transpose\n",
    "test_a.transpose()\n",
    "#or\n",
    "test_a.T"
   ]
  },
  {
   "cell_type": "markdown",
   "id": "d3e3500d",
   "metadata": {},
   "source": [
    "### broadcasting\n",
    "shape이 다른 배열 간 연산을 지원하는 기능 (전부)"
   ]
  },
  {
   "cell_type": "code",
   "execution_count": 44,
   "id": "8a3ec8b4",
   "metadata": {},
   "outputs": [],
   "source": [
    "test_matrix = np.array([[1,2,3],[4,5,6]], float)\n",
    "scalar = 3"
   ]
  },
  {
   "cell_type": "code",
   "execution_count": 45,
   "id": "16433011",
   "metadata": {},
   "outputs": [
    {
     "data": {
      "text/plain": [
       "array([[4., 5., 6.],\n",
       "       [7., 8., 9.]])"
      ]
     },
     "execution_count": 45,
     "metadata": {},
     "output_type": "execute_result"
    }
   ],
   "source": [
    "test_matrix + scalar"
   ]
  },
  {
   "cell_type": "markdown",
   "id": "45abe7c4",
   "metadata": {},
   "source": [
    "scalar - vector 외에도 vector - matrix 간의 연산도 지원"
   ]
  },
  {
   "cell_type": "code",
   "execution_count": 46,
   "id": "6b1ead11",
   "metadata": {},
   "outputs": [
    {
     "data": {
      "text/plain": [
       "array([ True,  True,  True,  True, False, False, False, False, False,\n",
       "       False])"
      ]
     },
     "execution_count": 46,
     "metadata": {},
     "output_type": "execute_result"
    }
   ],
   "source": [
    "a = np.arange(10)\n",
    "a < 4"
   ]
  },
  {
   "cell_type": "code",
   "execution_count": 47,
   "id": "b4ab5fbd",
   "metadata": {},
   "outputs": [
    {
     "data": {
      "text/plain": [
       "True"
      ]
     },
     "execution_count": 47,
     "metadata": {},
     "output_type": "execute_result"
    }
   ],
   "source": [
    "# any 하나라도 조건에 만족한다면 true\n",
    "np.any(a>5)"
   ]
  },
  {
   "cell_type": "code",
   "execution_count": 48,
   "id": "cac15836",
   "metadata": {},
   "outputs": [
    {
     "data": {
      "text/plain": [
       "False"
      ]
     },
     "execution_count": 48,
     "metadata": {},
     "output_type": "execute_result"
    }
   ],
   "source": [
    "# all 모두 조건에 만족한다면 true\n",
    "np.all(a<4)"
   ]
  },
  {
   "cell_type": "code",
   "execution_count": 49,
   "id": "38ed746b",
   "metadata": {},
   "outputs": [
    {
     "data": {
      "text/plain": [
       "array([ True, False, False])"
      ]
     },
     "execution_count": 49,
     "metadata": {},
     "output_type": "execute_result"
    }
   ],
   "source": [
    "# 배열의 크기가 동일할 때 비교 결과 반환\n",
    "# logical_or / logical_not 존재\n",
    "a = np.array([1,3,0], float)\n",
    "np.logical_and(a > 0, a < 3) # and 조건"
   ]
  },
  {
   "cell_type": "markdown",
   "id": "8af8e6d7",
   "metadata": {},
   "source": [
    "### np.where"
   ]
  },
  {
   "cell_type": "code",
   "execution_count": 50,
   "id": "d7c53ccc",
   "metadata": {},
   "outputs": [
    {
     "data": {
      "text/plain": [
       "array([3, 3, 2])"
      ]
     },
     "execution_count": 50,
     "metadata": {},
     "output_type": "execute_result"
    }
   ],
   "source": [
    "#where(condition, TRUE, FALSE)\n",
    "np.where(a > 0, 3, 2)"
   ]
  },
  {
   "cell_type": "code",
   "execution_count": 51,
   "id": "9eaf49d9",
   "metadata": {},
   "outputs": [
    {
     "data": {
      "text/plain": [
       "(array([6, 7, 8, 9]),)"
      ]
     },
     "execution_count": 51,
     "metadata": {},
     "output_type": "execute_result"
    }
   ],
   "source": [
    "#만족하는 인덱스 반환\n",
    "a = np.arange(10)\n",
    "np.where(a>5)"
   ]
  },
  {
   "cell_type": "code",
   "execution_count": 53,
   "id": "c17cc479",
   "metadata": {},
   "outputs": [
    {
     "data": {
      "text/plain": [
       "array([False,  True, False])"
      ]
     },
     "execution_count": 53,
     "metadata": {},
     "output_type": "execute_result"
    }
   ],
   "source": [
    "a = np.array([1, np.NaN, np.Inf], float)\n",
    "np.isnan(a)"
   ]
  },
  {
   "cell_type": "code",
   "execution_count": 54,
   "id": "2d46fa6e",
   "metadata": {},
   "outputs": [
    {
     "data": {
      "text/plain": [
       "array([ True, False, False])"
      ]
     },
     "execution_count": 54,
     "metadata": {},
     "output_type": "execute_result"
    }
   ],
   "source": [
    "np.isfinite(a)"
   ]
  },
  {
   "cell_type": "markdown",
   "id": "a8eccb46",
   "metadata": {},
   "source": [
    "### argmax & argmin\n",
    "- array 내 최대값 또는 최소값 index 반환\n",
    "- axis 기반 반환 가능\n",
    "### argsort\n",
    "- 내림차순\n",
    "- argsort()[::-1] 오름차순"
   ]
  },
  {
   "cell_type": "code",
   "execution_count": 56,
   "id": "a8fceb51",
   "metadata": {},
   "outputs": [
    {
     "data": {
      "text/plain": [
       "array([4, 3, 2, 1, 0])"
      ]
     },
     "execution_count": 56,
     "metadata": {},
     "output_type": "execute_result"
    }
   ],
   "source": [
    "a = np.array([1,2,3,4,23])\n",
    "a.argsort()[::-1]"
   ]
  },
  {
   "cell_type": "markdown",
   "id": "66c2ed0d",
   "metadata": {},
   "source": [
    "## timeit : jupyter에서 코드의 퍼포먼스 체크 함수\n",
    "for < list comprehenshion < numpy"
   ]
  },
  {
   "cell_type": "markdown",
   "id": "eb11f4da",
   "metadata": {},
   "source": [
    "## boolean & fancy index"
   ]
  },
  {
   "cell_type": "code",
   "execution_count": 58,
   "id": "5e3ffb89",
   "metadata": {},
   "outputs": [
    {
     "data": {
      "text/plain": [
       "array([False, False, False,  True,  True])"
      ]
     },
     "execution_count": 58,
     "metadata": {},
     "output_type": "execute_result"
    }
   ],
   "source": [
    "a > 3"
   ]
  },
  {
   "cell_type": "code",
   "execution_count": 59,
   "id": "c9e10b73",
   "metadata": {},
   "outputs": [
    {
     "data": {
      "text/plain": [
       "array([2., 2., 3., 8., 6., 3.])"
      ]
     },
     "execution_count": 59,
     "metadata": {},
     "output_type": "execute_result"
    }
   ],
   "source": [
    "a = np.array([2,3,6,8], float)\n",
    "b = np.array([0,0,1,3,2,1], int) #반드시 integer로 선언\n",
    "a[b] #bracket index, b 배열의 값을 index로 하여 a의 값들을 추출함"
   ]
  },
  {
   "cell_type": "code",
   "execution_count": 61,
   "id": "90585770",
   "metadata": {},
   "outputs": [
    {
     "data": {
      "text/plain": [
       "array([2., 2., 3., 8., 6., 3.])"
      ]
     },
     "execution_count": 61,
     "metadata": {},
     "output_type": "execute_result"
    }
   ],
   "source": [
    "a.take(b) #take : bracket index // Matrix 형태의 데이터도 가능하다"
   ]
  },
  {
   "cell_type": "markdown",
   "id": "f85b4f5c",
   "metadata": {},
   "source": [
    "## 입출력 가능\n",
    "np.loadtxt\n",
    "\n",
    "np.savetxt"
   ]
  }
 ],
 "metadata": {
  "kernelspec": {
   "display_name": "Python (myenv)",
   "language": "python",
   "name": "myenv"
  },
  "language_info": {
   "codemirror_mode": {
    "name": "ipython",
    "version": 3
   },
   "file_extension": ".py",
   "mimetype": "text/x-python",
   "name": "python",
   "nbconvert_exporter": "python",
   "pygments_lexer": "ipython3",
   "version": "3.11.3"
  }
 },
 "nbformat": 4,
 "nbformat_minor": 5
}
